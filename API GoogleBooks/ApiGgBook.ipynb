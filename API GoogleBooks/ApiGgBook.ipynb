{
 "cells": [
  {
   "cell_type": "code",
   "execution_count": 2,
   "metadata": {},
   "outputs": [],
   "source": [
    "import pandas as pd\n",
    "import json\n",
    "from decouple import config\n",
    "#!pip install google-api-python-client\n",
    "from googleapiclient.discovery import build"
   ]
  },
  {
   "cell_type": "markdown",
   "metadata": {},
   "source": [
    "### Prueba de conexion"
   ]
  },
  {
   "cell_type": "code",
   "execution_count": 3,
   "metadata": {},
   "outputs": [],
   "source": [
    "#ASIGNACION DE KEY MEDIANTE VARIABLE DE ENTORNO\n",
    "api_key = config('API_GB_KEY')\n",
    "\n",
    "#SE CREA CONEXION Y SE EJECUTA CONSULTA\n",
    "service = build('books', 'v1', developerKey=api_key)\n",
    "response = service.volumes().list(q='Harry Potter').execute()"
   ]
  },
  {
   "cell_type": "code",
   "execution_count": 4,
   "metadata": {},
   "outputs": [
    {
     "name": "stdout",
     "output_type": "stream",
     "text": [
      "{'kind': 'books#volume', 'id': '2zgRDXFWkm8C', 'etag': 'uz+5GG6Lm4I', 'selfLink': 'https://books.googleapis.com/books/v1/volumes/2zgRDXFWkm8C', 'volumeInfo': {'title': 'Harry Potter y la piedra filosofal', 'authors': ['J.K. Rowling'], 'publisher': 'Pottermore Publishing', 'publishedDate': '2015-12-08', 'description': 'Con las manos temblorosas, Harry le dio la vuelta al sobre y vio un sello de lacre púrpura con un escudo de armas: un león, un águila, un tejón y una serpiente, que rodeaban una gran letra H. Harry Potter nunca había oído nada sobre Hogwarts cuando las cartas comienzan a caer en el felpudo del número cuatro de Privet Drive. Escritas en tinta verde en un pergamino amarillento con un sello morado, sus horribles tíos las han confiscado velozmente. En su undécimo cumpleaños, un hombre gigante de ojos negros llamado Rubeus Hagrid aparece con una noticia extraordinaria: Harry Potter es un mago y tiene una plaza en el Colegio Hogwarts de Magia y Hechicería. ¡Una aventura increíble está a punto de empezar! Tema musical compuesto por James Hannigan.', 'industryIdentifiers': [{'type': 'ISBN_13', 'identifier': '9781781101315'}, {'type': 'ISBN_10', 'identifier': '1781101310'}], 'readingModes': {'text': True, 'image': True}, 'pageCount': 320, 'printType': 'BOOK', 'categories': ['Juvenile Fiction'], 'averageRating': 4, 'ratingsCount': 124, 'maturityRating': 'NOT_MATURE', 'allowAnonLogging': True, 'contentVersion': '2.17.17.0.preview.3', 'panelizationSummary': {'containsEpubBubbles': False, 'containsImageBubbles': False}, 'imageLinks': {'smallThumbnail': 'http://books.google.com/books/content?id=2zgRDXFWkm8C&printsec=frontcover&img=1&zoom=5&edge=curl&source=gbs_api', 'thumbnail': 'http://books.google.com/books/content?id=2zgRDXFWkm8C&printsec=frontcover&img=1&zoom=1&edge=curl&source=gbs_api'}, 'language': 'es', 'previewLink': 'http://books.google.com.ar/books?id=2zgRDXFWkm8C&printsec=frontcover&dq=Harry+Potter&hl=&cd=1&source=gbs_api', 'infoLink': 'http://books.google.com.ar/books?id=2zgRDXFWkm8C&dq=Harry+Potter&hl=&source=gbs_api', 'canonicalVolumeLink': 'https://books.google.com/books/about/Harry_Potter_y_la_piedra_filosofal.html?hl=&id=2zgRDXFWkm8C'}, 'saleInfo': {'country': 'AR', 'saleability': 'NOT_FOR_SALE', 'isEbook': False}, 'accessInfo': {'country': 'AR', 'viewability': 'PARTIAL', 'embeddable': True, 'publicDomain': False, 'textToSpeechPermission': 'ALLOWED', 'epub': {'isAvailable': True, 'acsTokenLink': 'http://books.google.com.ar/books/download/Harry_Potter_y_la_piedra_filosofal-sample-epub.acsm?id=2zgRDXFWkm8C&format=epub&output=acs4_fulfillment_token&dl_type=sample&source=gbs_api'}, 'pdf': {'isAvailable': True, 'acsTokenLink': 'http://books.google.com.ar/books/download/Harry_Potter_y_la_piedra_filosofal-sample-pdf.acsm?id=2zgRDXFWkm8C&format=pdf&output=acs4_fulfillment_token&dl_type=sample&source=gbs_api'}, 'webReaderLink': 'http://play.google.com/books/reader?id=2zgRDXFWkm8C&hl=&source=gbs_api', 'accessViewStatus': 'SAMPLE', 'quoteSharingAllowed': False}, 'searchInfo': {'textSnippet': 'Con las manos temblorosas, Harry le dio la vuelta al sobre y vio un sello de lacre púrpura con un escudo de armas: un león, un águila, un tejón y una serpiente, que rodeaban una gran letra H. Harry Potter nunca había oído nada sobre ...'}}\n",
      "{'kind': 'books#volume', 'id': '7j79zwEACAAJ', 'etag': 'mkzu4eropK0', 'selfLink': 'https://books.googleapis.com/books/v1/volumes/7j79zwEACAAJ', 'volumeInfo': {'title': 'Harry Potter y la Orden del Fénix ( Harry Potter 5 )', 'authors': ['J.K. Rowling'], 'publishedDate': '2020-12-08', 'description': 'Las tediosas vacaciones de verano en casa de sus tíos todavía no han acabado y Harry se encuentra más inquieto que nunca. Apenas ha tenido noticias de Ron y Hermione, y presiente que algo extraño está sucediendo en Hogwarts. En efecto, cuando por fin comienza otro curso en el famoso colegio de magia y hechicería, sus temores se vuelven realidad. El Ministerio de Magia niega que Voldemort haya regresado y ha iniciado una campaña de desprestigio contra Harry y Dumbledore, para lo cual ha asignado a la horrible profesora Dolores Umbridge la tarea de vigilar todos sus movimientos. Así pues, además de sentirse solo e incomprendido, Harry sospecha que Voldemort puede adivinar sus pensamientos, e intuye que el temible mago trata de apoderarse de un objeto secreto que le permitiría recuperar su poder destructivo.', 'industryIdentifiers': [{'type': 'ISBN_10', 'identifier': '6073800290'}, {'type': 'ISBN_13', 'identifier': '9786073800297'}], 'readingModes': {'text': False, 'image': False}, 'pageCount': 0, 'printType': 'BOOK', 'categories': ['Juvenile Fiction'], 'maturityRating': 'NOT_MATURE', 'allowAnonLogging': False, 'contentVersion': 'preview-1.0.0', 'panelizationSummary': {'containsEpubBubbles': False, 'containsImageBubbles': False}, 'language': 'es', 'previewLink': 'http://books.google.com.ar/books?id=7j79zwEACAAJ&dq=Harry+Potter&hl=&cd=2&source=gbs_api', 'infoLink': 'http://books.google.com.ar/books?id=7j79zwEACAAJ&dq=Harry+Potter&hl=&source=gbs_api', 'canonicalVolumeLink': 'https://books.google.com/books/about/Harry_Potter_y_la_Orden_del_F%C3%A9nix_Harry.html?hl=&id=7j79zwEACAAJ'}, 'saleInfo': {'country': 'AR', 'saleability': 'NOT_FOR_SALE', 'isEbook': False}, 'accessInfo': {'country': 'AR', 'viewability': 'NO_PAGES', 'embeddable': False, 'publicDomain': False, 'textToSpeechPermission': 'ALLOWED', 'epub': {'isAvailable': False}, 'pdf': {'isAvailable': False}, 'webReaderLink': 'http://play.google.com/books/reader?id=7j79zwEACAAJ&hl=&source=gbs_api', 'accessViewStatus': 'NONE', 'quoteSharingAllowed': False}, 'searchInfo': {'textSnippet': 'Las tediosas vacaciones de verano en casa de sus tíos todavía no han acabado y Harry se encuentra más inquieto que nunca.'}}\n",
      "{'kind': 'books#volume', 'id': 'YslU0AEACAAJ', 'etag': 'fkvPY6/naEQ', 'selfLink': 'https://books.googleapis.com/books/v1/volumes/YslU0AEACAAJ', 'volumeInfo': {'title': 'Harry Potter Y El Prisionero de Azkaban (Ed. Minalima)', 'authors': ['J K Rowling'], 'publisher': 'Salamandra Infantil Y Juvenil', 'publishedDate': '2023-12-13', 'description': 'Sumérgete en esta magnífica edición especial de Harry Potter y el prisionero de Azkaban, obra del prestigioso estudio MinaLima, responsable del diseño gráfico de las películas de la saga «Harry Potter» y de Animales fantásticos. En esta edición especial de Harry Potter y el prisionero de Azkaban, el texto completo e íntegro de la obra original de J.K. Rowling va acompañado de preciosas ilustraciones a todo color en casi todas las páginas, un diseño excelente y varias sorpresas interactivas de ingeniería en papel, obra del célebre estudio MinaLima. ¡Una nueva forma de vivir la magia del autobús noctámbulo, cabalgar sobre el hipogrifo Buckbeak y descubrir el Mapa del Merodeador! *El regalo perfecto para los fans de «Harry Potter». *Un tesoro para la estantería de cualquier coleccionista. *Una joya con sorpresas interactivas que disfrutarán lectores de todas las edades.', 'industryIdentifiers': [{'type': 'ISBN_10', 'identifier': '8419275204'}, {'type': 'ISBN_13', 'identifier': '9788419275202'}], 'readingModes': {'text': False, 'image': False}, 'pageCount': 0, 'printType': 'BOOK', 'categories': ['Juvenile Fiction'], 'maturityRating': 'NOT_MATURE', 'allowAnonLogging': False, 'contentVersion': 'preview-1.0.0', 'panelizationSummary': {'containsEpubBubbles': False, 'containsImageBubbles': False}, 'imageLinks': {'smallThumbnail': 'http://books.google.com/books/content?id=YslU0AEACAAJ&printsec=frontcover&img=1&zoom=5&source=gbs_api', 'thumbnail': 'http://books.google.com/books/content?id=YslU0AEACAAJ&printsec=frontcover&img=1&zoom=1&source=gbs_api'}, 'language': 'es', 'previewLink': 'http://books.google.com.ar/books?id=YslU0AEACAAJ&dq=Harry+Potter&hl=&cd=3&source=gbs_api', 'infoLink': 'http://books.google.com.ar/books?id=YslU0AEACAAJ&dq=Harry+Potter&hl=&source=gbs_api', 'canonicalVolumeLink': 'https://books.google.com/books/about/Harry_Potter_Y_El_Prisionero_de_Azkaban.html?hl=&id=YslU0AEACAAJ'}, 'saleInfo': {'country': 'AR', 'saleability': 'NOT_FOR_SALE', 'isEbook': False}, 'accessInfo': {'country': 'AR', 'viewability': 'NO_PAGES', 'embeddable': False, 'publicDomain': False, 'textToSpeechPermission': 'ALLOWED', 'epub': {'isAvailable': False}, 'pdf': {'isAvailable': False}, 'webReaderLink': 'http://play.google.com/books/reader?id=YslU0AEACAAJ&hl=&source=gbs_api', 'accessViewStatus': 'NONE', 'quoteSharingAllowed': False}, 'searchInfo': {'textSnippet': 'Return to Hogwarts in this stunning edition of Harry Potter and the Prisoner of Azkaban.'}}\n",
      "{'kind': 'books#volume', 'id': '4RENAQAAMAAJ', 'etag': '3ac7S80fEsc', 'selfLink': 'https://books.googleapis.com/books/v1/volumes/4RENAQAAMAAJ', 'volumeInfo': {'title': 'Harry Potter y la piedra filosofal', 'authors': ['J. K. Rowling'], 'publisher': 'Turtleback', 'publishedDate': '2001', 'description': 'Rescatado del descuido de su tia y tio, un huerfano con un gran destino matricula en la escuela Hogwarts para Magos y Brujas.', 'industryIdentifiers': [{'type': 'OTHER', 'identifier': 'PSU:000053878991'}], 'readingModes': {'text': False, 'image': False}, 'pageCount': 264, 'printType': 'BOOK', 'categories': ['England'], 'averageRating': 4, 'ratingsCount': 3, 'maturityRating': 'NOT_MATURE', 'allowAnonLogging': False, 'contentVersion': '0.2.2.0.preview.0', 'panelizationSummary': {'containsEpubBubbles': False, 'containsImageBubbles': False}, 'imageLinks': {'smallThumbnail': 'http://books.google.com/books/content?id=4RENAQAAMAAJ&printsec=frontcover&img=1&zoom=5&source=gbs_api', 'thumbnail': 'http://books.google.com/books/content?id=4RENAQAAMAAJ&printsec=frontcover&img=1&zoom=1&source=gbs_api'}, 'language': 'es', 'previewLink': 'http://books.google.com.ar/books?id=4RENAQAAMAAJ&q=Harry+Potter&dq=Harry+Potter&hl=&cd=4&source=gbs_api', 'infoLink': 'http://books.google.com.ar/books?id=4RENAQAAMAAJ&dq=Harry+Potter&hl=&source=gbs_api', 'canonicalVolumeLink': 'https://books.google.com/books/about/Harry_Potter_y_la_piedra_filosofal.html?hl=&id=4RENAQAAMAAJ'}, 'saleInfo': {'country': 'AR', 'saleability': 'NOT_FOR_SALE', 'isEbook': False}, 'accessInfo': {'country': 'AR', 'viewability': 'NO_PAGES', 'embeddable': False, 'publicDomain': False, 'textToSpeechPermission': 'ALLOWED', 'epub': {'isAvailable': False}, 'pdf': {'isAvailable': False}, 'webReaderLink': 'http://play.google.com/books/reader?id=4RENAQAAMAAJ&hl=&source=gbs_api', 'accessViewStatus': 'NONE', 'quoteSharingAllowed': False}, 'searchInfo': {'textSnippet': 'Rescatado del descuido de su tia y tio, un huerfano con un gran destino matricula en la escuela Hogwarts para Magos y Brujas.'}}\n",
      "{'kind': 'books#volume', 'id': 'XLVvAAAACAAJ', 'etag': 'K4NKJL3X4q8', 'selfLink': 'https://books.googleapis.com/books/v1/volumes/XLVvAAAACAAJ', 'volumeInfo': {'title': 'Harry Potter Y la Piedra Filosofal', 'authors': ['J. K. Rowling'], 'publishedDate': '2006-03', 'description': 'Rescued from the outrageous neglect of his aunt and uncle, a young boy with a great destiny proves his worth while attending Hogwarts School for Wizards and Witches.', 'industryIdentifiers': [{'type': 'ISBN_10', 'identifier': '8498380170'}, {'type': 'ISBN_13', 'identifier': '9788498380170'}], 'readingModes': {'text': False, 'image': False}, 'pageCount': 254, 'printType': 'BOOK', 'categories': ['England'], 'averageRating': 4.5, 'ratingsCount': 19, 'maturityRating': 'NOT_MATURE', 'allowAnonLogging': False, 'contentVersion': 'preview-1.0.0', 'imageLinks': {'smallThumbnail': 'http://books.google.com/books/content?id=XLVvAAAACAAJ&printsec=frontcover&img=1&zoom=5&source=gbs_api', 'thumbnail': 'http://books.google.com/books/content?id=XLVvAAAACAAJ&printsec=frontcover&img=1&zoom=1&source=gbs_api'}, 'language': 'es', 'previewLink': 'http://books.google.com.ar/books?id=XLVvAAAACAAJ&dq=Harry+Potter&hl=&cd=5&source=gbs_api', 'infoLink': 'http://books.google.com.ar/books?id=XLVvAAAACAAJ&dq=Harry+Potter&hl=&source=gbs_api', 'canonicalVolumeLink': 'https://books.google.com/books/about/Harry_Potter_Y_la_Piedra_Filosofal.html?hl=&id=XLVvAAAACAAJ'}, 'saleInfo': {'country': 'AR', 'saleability': 'NOT_FOR_SALE', 'isEbook': False}, 'accessInfo': {'country': 'AR', 'viewability': 'NO_PAGES', 'embeddable': False, 'publicDomain': False, 'textToSpeechPermission': 'ALLOWED', 'epub': {'isAvailable': False}, 'pdf': {'isAvailable': False}, 'webReaderLink': 'http://play.google.com/books/reader?id=XLVvAAAACAAJ&hl=&source=gbs_api', 'accessViewStatus': 'NONE', 'quoteSharingAllowed': False}, 'searchInfo': {'textSnippet': 'Harry Potter y la piedra filosofal es el primer volumen de la ya clásica serie de novelas fantásticas de la autora británica J.K. Rowling. «Con las manos temblorosas, Harry le dio la vuelta al sobre y vio un sello de lacre púrpura con ...'}}\n",
      "{'kind': 'books#volume', 'id': 'uUOBPgXQtvUC', 'etag': '5Z/Eoe1UFbQ', 'selfLink': 'https://books.googleapis.com/books/v1/volumes/uUOBPgXQtvUC', 'volumeInfo': {'title': 'Harry Potter y la Orden del Fénix', 'authors': ['J.K. Rowling'], 'publisher': 'Pottermore Publishing', 'publishedDate': '2015-12-08', 'description': '«Compartes los pensamientos y las emociones con el Señor Tenebroso. El director cree que no es conveniente que eso continúe ocurriendo. Quiere que te enseñe a cerrar tu mente al Señor Tenebroso.» La oscuridad se ciñe sobre Hogwarts. Tras el ataque de los dementores a su primo Dudley, Harry Potter sabe que Voldemort no se detendrá ante nada hasta dar con él. Hay muchos que niegan la vuelta del Señor Tenebroso, pero Harry no está solo: una orden secreta se reúne en Grimmauld Place para luchar contra las fuerzas oscuras. Harry debe permitir que el profesor Snape le enseñe a protegerse contra los brutales ataques de Voldemort a su mente. Pero cada día son más fuertes y Harry se está quedando sin tiempo... Tema musical compuesto por James Hannigan.', 'industryIdentifiers': [{'type': 'ISBN_13', 'identifier': '9781781101353'}, {'type': 'ISBN_10', 'identifier': '1781101353'}], 'readingModes': {'text': True, 'image': True}, 'pageCount': 1040, 'printType': 'BOOK', 'categories': ['Juvenile Fiction'], 'averageRating': 4, 'ratingsCount': 36, 'maturityRating': 'NOT_MATURE', 'allowAnonLogging': True, 'contentVersion': '2.12.11.0.preview.3', 'panelizationSummary': {'containsEpubBubbles': False, 'containsImageBubbles': False}, 'imageLinks': {'smallThumbnail': 'http://books.google.com/books/content?id=uUOBPgXQtvUC&printsec=frontcover&img=1&zoom=5&edge=curl&source=gbs_api', 'thumbnail': 'http://books.google.com/books/content?id=uUOBPgXQtvUC&printsec=frontcover&img=1&zoom=1&edge=curl&source=gbs_api'}, 'language': 'es', 'previewLink': 'http://books.google.com.ar/books?id=uUOBPgXQtvUC&printsec=frontcover&dq=Harry+Potter&hl=&cd=6&source=gbs_api', 'infoLink': 'http://books.google.com.ar/books?id=uUOBPgXQtvUC&dq=Harry+Potter&hl=&source=gbs_api', 'canonicalVolumeLink': 'https://books.google.com/books/about/Harry_Potter_y_la_Orden_del_F%C3%A9nix.html?hl=&id=uUOBPgXQtvUC'}, 'saleInfo': {'country': 'AR', 'saleability': 'NOT_FOR_SALE', 'isEbook': False}, 'accessInfo': {'country': 'AR', 'viewability': 'PARTIAL', 'embeddable': True, 'publicDomain': False, 'textToSpeechPermission': 'ALLOWED', 'epub': {'isAvailable': True, 'acsTokenLink': 'http://books.google.com.ar/books/download/Harry_Potter_y_la_Orden_del_F%C3%A9nix-sample-epub.acsm?id=uUOBPgXQtvUC&format=epub&output=acs4_fulfillment_token&dl_type=sample&source=gbs_api'}, 'pdf': {'isAvailable': True, 'acsTokenLink': 'http://books.google.com.ar/books/download/Harry_Potter_y_la_Orden_del_F%C3%A9nix-sample-pdf.acsm?id=uUOBPgXQtvUC&format=pdf&output=acs4_fulfillment_token&dl_type=sample&source=gbs_api'}, 'webReaderLink': 'http://play.google.com/books/reader?id=uUOBPgXQtvUC&hl=&source=gbs_api', 'accessViewStatus': 'SAMPLE', 'quoteSharingAllowed': False}, 'searchInfo': {'textSnippet': '«Compartes los pensamientos y las emociones con el Señor Tenebroso.'}}\n",
      "{'kind': 'books#volume', 'id': '_-hnPrimlnYC', 'etag': 'qlD/JQ0JGS8', 'selfLink': 'https://books.googleapis.com/books/v1/volumes/_-hnPrimlnYC', 'volumeInfo': {'title': 'Harry Potter y la cámara secreta', 'authors': ['J. K. Rowling'], 'publisher': 'Lectorum Publications', 'publishedDate': '1999', 'description': 'Tras derrotar una vez más a lord Voldemort, su siniestro enemigo en Harry Potter y la piedra filosofal, Harry espera impaciente en casa de sus insoportables tíos el inicio del segundo curso del Colegio Hogwarts de Magia y Hechicería. Sin embargo, la espera dura poco, pues un elfo aparece en su habitación y le advierte que una amenaza mortal se cierne sobre la escuela. Así pues, Harry no se lo piensa dos veces y, acompañado de Ron, su mejor amigo, se dirige a Hogwarts en un coche volador. Pero ¿puede un aprendiz de mago defender la escuela de los malvados que pretenden destruirla? Sin saber que alguien ha abierto la Cámara de los Secretos, dejando escapar una serie de monstruos peligrosos, Harry y sus amigos Ron y Hermione tendrán que enfrentarse con arañas gigantes, serpientes encantadas, fantasmas enfurecidos y, sobre todo, con la mismísima reencarnación de su más temible adversario.', 'industryIdentifiers': [{'type': 'ISBN_10', 'identifier': '8478884955'}, {'type': 'ISBN_13', 'identifier': '9788478884957'}], 'readingModes': {'text': False, 'image': False}, 'pageCount': 288, 'printType': 'BOOK', 'categories': ['Juvenile Fiction'], 'averageRating': 4, 'ratingsCount': 124, 'maturityRating': 'NOT_MATURE', 'allowAnonLogging': False, 'contentVersion': '1.4.3.0.preview.0', 'panelizationSummary': {'containsEpubBubbles': False, 'containsImageBubbles': False}, 'imageLinks': {'smallThumbnail': 'http://books.google.com/books/content?id=_-hnPrimlnYC&printsec=frontcover&img=1&zoom=5&source=gbs_api', 'thumbnail': 'http://books.google.com/books/content?id=_-hnPrimlnYC&printsec=frontcover&img=1&zoom=1&source=gbs_api'}, 'language': 'es', 'previewLink': 'http://books.google.com.ar/books?id=_-hnPrimlnYC&q=Harry+Potter&dq=Harry+Potter&hl=&cd=7&source=gbs_api', 'infoLink': 'http://books.google.com.ar/books?id=_-hnPrimlnYC&dq=Harry+Potter&hl=&source=gbs_api', 'canonicalVolumeLink': 'https://books.google.com/books/about/Harry_Potter_y_la_c%C3%A1mara_secreta.html?hl=&id=_-hnPrimlnYC'}, 'saleInfo': {'country': 'AR', 'saleability': 'NOT_FOR_SALE', 'isEbook': False}, 'accessInfo': {'country': 'AR', 'viewability': 'NO_PAGES', 'embeddable': False, 'publicDomain': False, 'textToSpeechPermission': 'ALLOWED', 'epub': {'isAvailable': False}, 'pdf': {'isAvailable': False}, 'webReaderLink': 'http://play.google.com/books/reader?id=_-hnPrimlnYC&hl=&source=gbs_api', 'accessViewStatus': 'NONE', 'quoteSharingAllowed': False}, 'searchInfo': {'textSnippet': 'Tras derrotar una vez más a lord Voldemort, su siniestro enemigo en Harry Potter y la piedra filosofal, Harry espera impaciente en casa de sus insoportables tíos el inicio del segundo curso del Colegio Hogwarts de Magia y Hechicería.'}}\n",
      "{'kind': 'books#volume', 'id': 'EnaREAAAQBAJ', 'etag': '39y/EPzgy1g', 'selfLink': 'https://books.googleapis.com/books/v1/volumes/EnaREAAAQBAJ', 'volumeInfo': {'title': \"Harry Potter y la piedra filosofal (20 Aniv. Slytherin) / Harry Potter and the S orcerer's Stone (Slytherin)\", 'authors': ['J.K. Rowling'], 'publisher': 'National Geographic Books', 'publishedDate': '2018-12-01', 'description': \"1998-2018: VEINTE AÑOS DE MAGIA Celebra el 20º aniversario de Harry Potter con la edición verde de Slytherin de Harry Potter y la piedra filosofal Harry Potter se ha quedado huérfano y vive en casa de sus abominables tíos y del insoportable primo Dudley. Harry se siente muy triste y solo, hasta que un buen día recibe una carta que cambiará su vida para siempre. En ella le comunican que ha sido aceptado como alumno en el colegio interno Hogwarts de magia y hechicería. A partir de ese momento, la suerte de Harry da un vuelco espectacular. En esa escuela tan especial aprenderá encantamientos, trucos fabulosos y tácticas de defensa contra las malas artes. Se convertirá en el campeón escolar de quidditch, especie de fútbol aéreo que se juega montado sobre escobas, y se hará un puñado de buenos amigos... aunque también algunos temibles enemigos. Pero sobre todo, conocerá los secretos que le permitirán cumplir con su destino. Pues, aunque no lo parezca a primera vista, Harry no es un chico común y corriente. ¡Es un verdadero mago! ENGLISH DESCRIPTION Exclusive Slytherin house edition to celebrate the 20th Anniversary of the first publication of Harry Potter and the Sorcerer's Stone – a highly collectable must-have for all Harry Potter fans! Harry Potter is an orphan and lives a miserable life in the home of his abominable aunt and uncle and his unbearable cousin Dudley. Harry feels sad and lonely, until one day he receives a letter that will change his life forever. In it he finds out that he has been accepted as a student at the boarding school Hogwarts School of Witchcraft and Wizardry. From then on, Harry's luck takes a dramatic turn. In that special school he will learn spells, fabulous tricks, and defense tactics against dark forces. He will become the school champion at Quidditch, a kind of aerial soccer played while riding on brooms, and he will make a handful of good friends ... but also some fearsome enemies. But, above all, he will learn the secrets that will allow him to fulfill his destiny. Because, although it may not seem at first glance, Harry is not an ordinary boy. He is a true wizard!\", 'industryIdentifiers': [{'type': 'ISBN_13', 'identifier': '9788498388930'}, {'type': 'ISBN_10', 'identifier': '8498388937'}], 'readingModes': {'text': True, 'image': False}, 'pageCount': 0, 'printType': 'BOOK', 'categories': ['Juvenile Fiction'], 'maturityRating': 'NOT_MATURE', 'allowAnonLogging': False, 'contentVersion': 'preview-1.0.0', 'panelizationSummary': {'containsEpubBubbles': False, 'containsImageBubbles': False}, 'imageLinks': {'smallThumbnail': 'http://books.google.com/books/content?id=EnaREAAAQBAJ&printsec=frontcover&img=1&zoom=5&source=gbs_api', 'thumbnail': 'http://books.google.com/books/content?id=EnaREAAAQBAJ&printsec=frontcover&img=1&zoom=1&source=gbs_api'}, 'language': 'es', 'previewLink': 'http://books.google.com.ar/books?id=EnaREAAAQBAJ&dq=Harry+Potter&hl=&cd=8&source=gbs_api', 'infoLink': 'http://books.google.com.ar/books?id=EnaREAAAQBAJ&dq=Harry+Potter&hl=&source=gbs_api', 'canonicalVolumeLink': 'https://books.google.com/books/about/Harry_Potter_y_la_piedra_filosofal_20_An.html?hl=&id=EnaREAAAQBAJ'}, 'saleInfo': {'country': 'AR', 'saleability': 'NOT_FOR_SALE', 'isEbook': False}, 'accessInfo': {'country': 'AR', 'viewability': 'NO_PAGES', 'embeddable': False, 'publicDomain': False, 'textToSpeechPermission': 'ALLOWED', 'epub': {'isAvailable': False}, 'pdf': {'isAvailable': False}, 'webReaderLink': 'http://play.google.com/books/reader?id=EnaREAAAQBAJ&hl=&source=gbs_api', 'accessViewStatus': 'NONE', 'quoteSharingAllowed': False}, 'searchInfo': {'textSnippet': '1998-2018: VEINTE AÑOS DE MAGIA Celebra el 20º aniversario de Harry Potter con la edición verde de Slytherin de Harry Potter y la piedra filosofal Harry Potter se ha quedado huérfano y vive en casa de sus abominables tíos y del ...'}}\n",
      "{'kind': 'books#volume', 'id': 'uZDYlfDVYmEC', 'etag': 'C8qM4rvxe/A', 'selfLink': 'https://books.googleapis.com/books/v1/volumes/uZDYlfDVYmEC', 'volumeInfo': {'title': 'Harry Potter y el misterio del príncipe', 'authors': ['J.K. Rowling'], 'publisher': 'Pottermore Publishing', 'publishedDate': '2015-12-08', 'description': 'En efecto, suspendido en el cielo encima del castillo, había un reluciente cráneo verde con lengua de serpiente, la marca que dejaban los mortífagos cuando salían de un edificio donde habían matado... Cuando Dumbledore llega a Privet Drive una noche de verano para recoger a Harry Potter, su mano, la que utiliza para blandir su varita, tiene un color negruzco y parece débil, pero no le cuenta el porqué. Los secretos y las sospechas se extienden por todo el mundo mágico y Hogwarts no es ninguna excepción. Harry está convencido de que Malfoy también porta la marca tenebrosa: hay un mortífago entre ellos. Harry necesitará magia muy poderosa y a sus verdaderos amigos mientras descubre los secretos más oscuros de Voldemort y Dumbledore le prepara para enfrentarse a su destino... Tema musical compuesto por James Hannigan.', 'industryIdentifiers': [{'type': 'ISBN_13', 'identifier': '9781781101360'}, {'type': 'ISBN_10', 'identifier': '1781101361'}], 'readingModes': {'text': True, 'image': True}, 'pageCount': 664, 'printType': 'BOOK', 'categories': ['Juvenile Fiction'], 'averageRating': 4, 'ratingsCount': 25, 'maturityRating': 'NOT_MATURE', 'allowAnonLogging': True, 'contentVersion': '1.8.8.0.preview.3', 'panelizationSummary': {'containsEpubBubbles': False, 'containsImageBubbles': False}, 'imageLinks': {'smallThumbnail': 'http://books.google.com/books/content?id=uZDYlfDVYmEC&printsec=frontcover&img=1&zoom=5&edge=curl&source=gbs_api', 'thumbnail': 'http://books.google.com/books/content?id=uZDYlfDVYmEC&printsec=frontcover&img=1&zoom=1&edge=curl&source=gbs_api'}, 'language': 'es', 'previewLink': 'http://books.google.com.ar/books?id=uZDYlfDVYmEC&printsec=frontcover&dq=Harry+Potter&hl=&cd=9&source=gbs_api', 'infoLink': 'http://books.google.com.ar/books?id=uZDYlfDVYmEC&dq=Harry+Potter&hl=&source=gbs_api', 'canonicalVolumeLink': 'https://books.google.com/books/about/Harry_Potter_y_el_misterio_del_pr%C3%ADncipe.html?hl=&id=uZDYlfDVYmEC'}, 'saleInfo': {'country': 'AR', 'saleability': 'NOT_FOR_SALE', 'isEbook': False}, 'accessInfo': {'country': 'AR', 'viewability': 'PARTIAL', 'embeddable': True, 'publicDomain': False, 'textToSpeechPermission': 'ALLOWED', 'epub': {'isAvailable': True, 'acsTokenLink': 'http://books.google.com.ar/books/download/Harry_Potter_y_el_misterio_del_pr%C3%ADncipe-sample-epub.acsm?id=uZDYlfDVYmEC&format=epub&output=acs4_fulfillment_token&dl_type=sample&source=gbs_api'}, 'pdf': {'isAvailable': True, 'acsTokenLink': 'http://books.google.com.ar/books/download/Harry_Potter_y_el_misterio_del_pr%C3%ADncipe-sample-pdf.acsm?id=uZDYlfDVYmEC&format=pdf&output=acs4_fulfillment_token&dl_type=sample&source=gbs_api'}, 'webReaderLink': 'http://play.google.com/books/reader?id=uZDYlfDVYmEC&hl=&source=gbs_api', 'accessViewStatus': 'SAMPLE', 'quoteSharingAllowed': False}, 'searchInfo': {'textSnippet': 'En efecto, suspendido en el cielo encima del castillo, había un reluciente cráneo verde con lengua de serpiente, la marca que dejaban los mortífagos cuando salían de un edificio donde habían matado.'}}\n",
      "{'kind': 'books#volume', 'id': 'QIG1uQAACAAJ', 'etag': 'o+tyDXRndZo', 'selfLink': 'https://books.googleapis.com/books/v1/volumes/QIG1uQAACAAJ', 'volumeInfo': {'title': 'Harry Potter y el Caliz de Fuego / Harry Potter and the Goblet of Fire', 'authors': ['J. K. Rowling'], 'publisher': 'Salamandra Publicacions Y Edicions', 'publishedDate': '2002-01', 'industryIdentifiers': [{'type': 'ISBN_10', 'identifier': '8478887628'}, {'type': 'ISBN_13', 'identifier': '9788478887620'}], 'readingModes': {'text': False, 'image': False}, 'pageCount': 642, 'printType': 'BOOK', 'categories': ['Juvenile Fiction'], 'maturityRating': 'NOT_MATURE', 'allowAnonLogging': False, 'contentVersion': 'preview-1.0.0', 'language': 'es', 'previewLink': 'http://books.google.com.ar/books?id=QIG1uQAACAAJ&dq=Harry+Potter&hl=&cd=10&source=gbs_api', 'infoLink': 'http://books.google.com.ar/books?id=QIG1uQAACAAJ&dq=Harry+Potter&hl=&source=gbs_api', 'canonicalVolumeLink': 'https://books.google.com/books/about/Harry_Potter_y_el_Caliz_de_Fuego_Harry_P.html?hl=&id=QIG1uQAACAAJ'}, 'saleInfo': {'country': 'AR', 'saleability': 'NOT_FOR_SALE', 'isEbook': False}, 'accessInfo': {'country': 'AR', 'viewability': 'NO_PAGES', 'embeddable': False, 'publicDomain': False, 'textToSpeechPermission': 'ALLOWED', 'epub': {'isAvailable': False}, 'pdf': {'isAvailable': False}, 'webReaderLink': 'http://play.google.com/books/reader?id=QIG1uQAACAAJ&hl=&source=gbs_api', 'accessViewStatus': 'NONE', 'quoteSharingAllowed': False}, 'searchInfo': {'textSnippet': 'Harry Potter y el cáliz de fuego es la cuarta entrega de la serie fantástica de la autora británica J.K. Rowling.'}}\n"
     ]
    }
   ],
   "source": [
    "#EXPLORACION DE RESULTADO\n",
    "for i in response['items']:\n",
    "    print(i)"
   ]
  },
  {
   "cell_type": "markdown",
   "metadata": {},
   "source": [
    "### Obtencion de datos por categoria"
   ]
  },
  {
   "cell_type": "code",
   "execution_count": 59,
   "metadata": {},
   "outputs": [],
   "source": [
    "#CATEGORIAS DE LIBRO\n",
    "categories = ['Fiction','Nonfiction','Art','Biography & Autobiography',\n",
    "              'Business & Economics','Computers','Cooking','Crafts & Hobbies',\n",
    "              'Education','Family & Relationships','Games & Activities','Health & Fitness',\n",
    "              'History','House & Home','Humor','Law','Literary Collections',\n",
    "              'Literary Criticism','Mathematics','Medical','Music','Nature',\n",
    "              'Performing Arts','Pets','Philosophy','Photography','Poetry',\n",
    "              'Political Science','Psychology','Religion','Science','Self-Help',\n",
    "              'Social Science','Sports & Recreation','Study Aids','Technology & Engineering',\n",
    "              'Transportation','Travel']\n"
   ]
  },
  {
   "cell_type": "code",
   "execution_count": 60,
   "metadata": {},
   "outputs": [],
   "source": [
    "#LISTA PARA GUARDAR RESULTADOS\n",
    "books = []\n",
    "\n",
    "#CICLO ITERATIVO PARA OBTENER LOS LIBROS POR CATEGORIA\n",
    "for category in categories:\n",
    "    for i in range(0,100,10):\n",
    "        response = service.volumes().list(q=f'subject:{category}', langRestrict='es',startIndex=i).execute()\n",
    "        if 'items' in response:\n",
    "            for book in response['items']: \n",
    "                book['main_category'] = category\n",
    "                books.append(book)\n",
    "        else:\n",
    "            break"
   ]
  },
  {
   "cell_type": "code",
   "execution_count": 63,
   "metadata": {},
   "outputs": [
    {
     "name": "stdout",
     "output_type": "stream",
     "text": [
      "La cantidad de resultados obtenidos es: 2375\n"
     ]
    }
   ],
   "source": [
    "#TOTAL DE RESULTADOS OBTENIDOS\n",
    "print(f'La cantidad de resultados obtenidos es: {len(books)}')"
   ]
  },
  {
   "cell_type": "code",
   "execution_count": 62,
   "metadata": {},
   "outputs": [],
   "source": [
    "#GUARDADO DE DATOS EN ARCHIVO JSON\n",
    "with open('GBookData.json','w') as file:\n",
    "    json.dump(books, file, indent=4, separators=(',',':'))"
   ]
  }
 ],
 "metadata": {
  "kernelspec": {
   "display_name": "Python 3",
   "language": "python",
   "name": "python3"
  },
  "language_info": {
   "codemirror_mode": {
    "name": "ipython",
    "version": 3
   },
   "file_extension": ".py",
   "mimetype": "text/x-python",
   "name": "python",
   "nbconvert_exporter": "python",
   "pygments_lexer": "ipython3",
   "version": "3.12.2"
  }
 },
 "nbformat": 4,
 "nbformat_minor": 2
}
