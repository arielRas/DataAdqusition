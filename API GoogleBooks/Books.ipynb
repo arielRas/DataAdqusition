{
 "cells": [
  {
   "cell_type": "code",
   "execution_count": 1,
   "metadata": {},
   "outputs": [],
   "source": [
    "import pandas as pd\n",
    "import json "
   ]
  },
  {
   "cell_type": "code",
   "execution_count": 2,
   "metadata": {},
   "outputs": [
    {
     "data": {
      "text/plain": [
       "2375"
      ]
     },
     "execution_count": 2,
     "metadata": {},
     "output_type": "execute_result"
    }
   ],
   "source": [
    "#APERTURA DE ARCHIVO\n",
    "with open('Books.json', 'r') as file:\n",
    "    books = json.load(file)\n",
    "\n",
    "#CANTIDAD DE ELEMENTOS EN EL ARCHIVO\n",
    "len(books)    "
   ]
  },
  {
   "cell_type": "markdown",
   "metadata": {},
   "source": [
    "### DataWrangling"
   ]
  },
  {
   "cell_type": "code",
   "execution_count": 3,
   "metadata": {},
   "outputs": [
    {
     "data": {
      "text/html": [
       "<div>\n",
       "<style scoped>\n",
       "    .dataframe tbody tr th:only-of-type {\n",
       "        vertical-align: middle;\n",
       "    }\n",
       "\n",
       "    .dataframe tbody tr th {\n",
       "        vertical-align: top;\n",
       "    }\n",
       "\n",
       "    .dataframe thead th {\n",
       "        text-align: right;\n",
       "    }\n",
       "</style>\n",
       "<table border=\"1\" class=\"dataframe\">\n",
       "  <thead>\n",
       "    <tr style=\"text-align: right;\">\n",
       "      <th></th>\n",
       "      <th>title</th>\n",
       "      <th>category</th>\n",
       "      <th>authors</th>\n",
       "      <th>publisher</th>\n",
       "      <th>publishedDate</th>\n",
       "      <th>pageCount</th>\n",
       "      <th>language</th>\n",
       "      <th>price</th>\n",
       "    </tr>\n",
       "  </thead>\n",
       "  <tbody>\n",
       "    <tr>\n",
       "      <th>0</th>\n",
       "      <td>La metamorfosis</td>\n",
       "      <td>[Fiction]</td>\n",
       "      <td>[Franz Kafka]</td>\n",
       "      <td>CASTALIA</td>\n",
       "      <td>2012-10-01</td>\n",
       "      <td>62.0</td>\n",
       "      <td>es</td>\n",
       "      <td>NaN</td>\n",
       "    </tr>\n",
       "    <tr>\n",
       "      <th>1</th>\n",
       "      <td>El Sabueso de los Baskerville</td>\n",
       "      <td>[Fiction]</td>\n",
       "      <td>[Arthur Conan Doyle]</td>\n",
       "      <td>Taylor &amp; Francis</td>\n",
       "      <td>2001-02-14</td>\n",
       "      <td>242.0</td>\n",
       "      <td>es</td>\n",
       "      <td>NaN</td>\n",
       "    </tr>\n",
       "    <tr>\n",
       "      <th>2</th>\n",
       "      <td>El idiota</td>\n",
       "      <td>[Fiction]</td>\n",
       "      <td>[Fiódor Dostoievski]</td>\n",
       "      <td>e-artnow</td>\n",
       "      <td>2015-07-22</td>\n",
       "      <td>809.0</td>\n",
       "      <td>es</td>\n",
       "      <td>0.99</td>\n",
       "    </tr>\n",
       "  </tbody>\n",
       "</table>\n",
       "</div>"
      ],
      "text/plain": [
       "                           title   category               authors  \\\n",
       "0                La metamorfosis  [Fiction]         [Franz Kafka]   \n",
       "1  El Sabueso de los Baskerville  [Fiction]  [Arthur Conan Doyle]   \n",
       "2                      El idiota  [Fiction]  [Fiódor Dostoievski]   \n",
       "\n",
       "          publisher publishedDate  pageCount language  price  \n",
       "0          CASTALIA    2012-10-01       62.0       es    NaN  \n",
       "1  Taylor & Francis    2001-02-14      242.0       es    NaN  \n",
       "2          e-artnow    2015-07-22      809.0       es   0.99  "
      ]
     },
     "execution_count": 3,
     "metadata": {},
     "output_type": "execute_result"
    }
   ],
   "source": [
    "#APERTURA DE ARCHIVO\n",
    "df = pd.read_json('Books.json')\n",
    "df.head(3)"
   ]
  },
  {
   "cell_type": "code",
   "execution_count": 4,
   "metadata": {},
   "outputs": [
    {
     "data": {
      "text/plain": [
       "title               0\n",
       "category          134\n",
       "authors            85\n",
       "publisher         289\n",
       "publishedDate      45\n",
       "pageCount          42\n",
       "language            0\n",
       "price            1227\n",
       "dtype: int64"
      ]
     },
     "execution_count": 4,
     "metadata": {},
     "output_type": "execute_result"
    }
   ],
   "source": [
    "#BUSQUEDA DE NULOS\n",
    "df.isna().sum()"
   ]
  },
  {
   "cell_type": "markdown",
   "metadata": {},
   "source": [
    "#### Variable Price"
   ]
  },
  {
   "cell_type": "code",
   "execution_count": 5,
   "metadata": {},
   "outputs": [
    {
     "name": "stdout",
     "output_type": "stream",
     "text": [
      "Cantidad de nulos: 0\n"
     ]
    }
   ],
   "source": [
    "#IMPUTACION DE VALORES NULOS POR LA MEDIA\n",
    "df.loc[df.price.isna(), 'price'] = df.price.mean()\n",
    "\n",
    "#INFO\n",
    "print(f'Cantidad de nulos: {df.price.isna().sum()}')"
   ]
  },
  {
   "cell_type": "markdown",
   "metadata": {},
   "source": [
    "#### Variable PublishedDate"
   ]
  },
  {
   "cell_type": "code",
   "execution_count": 6,
   "metadata": {},
   "outputs": [
    {
     "name": "stdout",
     "output_type": "stream",
     "text": [
      "Cantidad de nulos: 0\n"
     ]
    }
   ],
   "source": [
    "df = df.loc[df.publishedDate.notna()]\n",
    "\n",
    "#INFO\n",
    "print(f'Cantidad de nulos: {df.publishedDate.isna().sum()}')"
   ]
  },
  {
   "cell_type": "code",
   "execution_count": 7,
   "metadata": {},
   "outputs": [
    {
     "name": "stdout",
     "output_type": "stream",
     "text": [
      "Cantidad de nulos: 0\n"
     ]
    }
   ],
   "source": [
    "#SE CONVIERTE FECHA EN TIPO FECHA REPRESENTANDO EL AÑO DE PUBLICACION\n",
    "df.publishedDate = pd.to_datetime(df.publishedDate, format=\"%Y-%m-%d\",yearfirst=True, errors='coerce').dt.year\n",
    "\n",
    "#SE IMPUTAN LOS NULOS POR LA MEDIA DE LOS AÑOS\n",
    "df.loc[df.publishedDate.isna(), 'publishedDate'] = df.publishedDate.median()\n",
    "\n",
    "#INFO\n",
    "print(f'Cantidad de nulos: {df.publishedDate.isna().sum()}')"
   ]
  },
  {
   "cell_type": "markdown",
   "metadata": {},
   "source": [
    "#### Variable pageCount"
   ]
  },
  {
   "cell_type": "code",
   "execution_count": 8,
   "metadata": {},
   "outputs": [
    {
     "name": "stdout",
     "output_type": "stream",
     "text": [
      "Cantidad de nulos: 0\n"
     ]
    }
   ],
   "source": [
    "#SE CONVIERTE FECHA EN TIPO FECHA REPRESENTANDO EL AÑO DE PUBLICACION\n",
    "df.loc[df.pageCount.isna(), 'pageCount'] = df.pageCount.median()\n",
    "\n",
    "#INFO\n",
    "print(f'Cantidad de nulos: {df.pageCount.isna().sum()}')"
   ]
  },
  {
   "cell_type": "markdown",
   "metadata": {},
   "source": [
    "#### Valores nulos restantes"
   ]
  },
  {
   "cell_type": "code",
   "execution_count": 9,
   "metadata": {},
   "outputs": [
    {
     "data": {
      "text/plain": [
       "title              0\n",
       "category         131\n",
       "authors           82\n",
       "publisher        289\n",
       "publishedDate      0\n",
       "pageCount          0\n",
       "language           0\n",
       "price              0\n",
       "dtype: int64"
      ]
     },
     "execution_count": 9,
     "metadata": {},
     "output_type": "execute_result"
    }
   ],
   "source": [
    "#BUSQUEDA DE NULOS\n",
    "df.isna().sum()"
   ]
  },
  {
   "cell_type": "code",
   "execution_count": 10,
   "metadata": {},
   "outputs": [
    {
     "data": {
      "text/plain": [
       "title            0\n",
       "category         0\n",
       "authors          0\n",
       "publisher        0\n",
       "publishedDate    0\n",
       "pageCount        0\n",
       "language         0\n",
       "price            0\n",
       "dtype: int64"
      ]
     },
     "execution_count": 10,
     "metadata": {},
     "output_type": "execute_result"
    }
   ],
   "source": [
    "#SE ELIMINAN DATOS NULOS\n",
    "df.dropna(inplace=True)\n",
    "\n",
    "#BUSQUEDA DE NULOS\n",
    "df.isna().sum()"
   ]
  },
  {
   "cell_type": "markdown",
   "metadata": {},
   "source": [
    "### Preparacion de datos en tablas"
   ]
  },
  {
   "cell_type": "markdown",
   "metadata": {},
   "source": [
    "#### Tabla authors"
   ]
  },
  {
   "cell_type": "code",
   "execution_count": 11,
   "metadata": {},
   "outputs": [
    {
     "name": "stdout",
     "output_type": "stream",
     "text": [
      "Total de autores despues de quitar duplicados: 1819\n"
     ]
    }
   ],
   "source": [
    "#PREPARACION DE TABLA AUTORES\n",
    "authors = []\n",
    "\n",
    "for book in books:\n",
    "    if book['authors']:\n",
    "        for author in book['authors']:\n",
    "            authors.append(author)\n",
    "        \n",
    "#SE ELIMINAN DUPLICADOS Y SE ORDENA LA LISTA\n",
    "authors = list(set(authors))\n",
    "authors.sort()\n",
    "print(f'Total de autores despues de quitar duplicados: {len(authors)}')"
   ]
  },
  {
   "cell_type": "code",
   "execution_count": 12,
   "metadata": {},
   "outputs": [
    {
     "data": {
      "text/html": [
       "<div>\n",
       "<style scoped>\n",
       "    .dataframe tbody tr th:only-of-type {\n",
       "        vertical-align: middle;\n",
       "    }\n",
       "\n",
       "    .dataframe tbody tr th {\n",
       "        vertical-align: top;\n",
       "    }\n",
       "\n",
       "    .dataframe thead th {\n",
       "        text-align: right;\n",
       "    }\n",
       "</style>\n",
       "<table border=\"1\" class=\"dataframe\">\n",
       "  <thead>\n",
       "    <tr style=\"text-align: right;\">\n",
       "      <th></th>\n",
       "      <th>author_id</th>\n",
       "      <th>name</th>\n",
       "    </tr>\n",
       "  </thead>\n",
       "  <tbody>\n",
       "    <tr>\n",
       "      <th>0</th>\n",
       "      <td>1</td>\n",
       "      <td>Fernando Trujillo  Sáez</td>\n",
       "    </tr>\n",
       "    <tr>\n",
       "      <th>1</th>\n",
       "      <td>2</td>\n",
       "      <td>Sigmund Freud</td>\n",
       "    </tr>\n",
       "    <tr>\n",
       "      <th>2</th>\n",
       "      <td>3</td>\n",
       "      <td>(Astronomo) Copernico</td>\n",
       "    </tr>\n",
       "    <tr>\n",
       "      <th>3</th>\n",
       "      <td>4</td>\n",
       "      <td>, Esopo</td>\n",
       "    </tr>\n",
       "    <tr>\n",
       "      <th>4</th>\n",
       "      <td>5</td>\n",
       "      <td>A. Pandolfi</td>\n",
       "    </tr>\n",
       "  </tbody>\n",
       "</table>\n",
       "</div>"
      ],
      "text/plain": [
       "   author_id                      name\n",
       "0          1   Fernando Trujillo  Sáez\n",
       "1          2             Sigmund Freud\n",
       "2          3     (Astronomo) Copernico\n",
       "3          4                   , Esopo\n",
       "4          5               A. Pandolfi"
      ]
     },
     "execution_count": 12,
     "metadata": {},
     "output_type": "execute_result"
    }
   ],
   "source": [
    "#SE CREA DATAFRAME PARA ALOJAR LA TABLA\n",
    "df_author = pd.DataFrame({'author_id':range(1,len(authors)+1),\n",
    "                          'name': authors})\n",
    "\n",
    "df_author.head()"
   ]
  },
  {
   "cell_type": "markdown",
   "metadata": {},
   "source": [
    "#### Tabla categories"
   ]
  },
  {
   "cell_type": "code",
   "execution_count": 13,
   "metadata": {},
   "outputs": [
    {
     "name": "stdout",
     "output_type": "stream",
     "text": [
      "Total de categorias: 161\n"
     ]
    }
   ],
   "source": [
    "#PREPARACION DE TABLA CATEGORIAS\n",
    "categories = []\n",
    "\n",
    "for book in books:\n",
    "    if book['category']:\n",
    "        for category in book['category']:\n",
    "                categories.append(category)\n",
    "        \n",
    "\n",
    "#SE ELIMINAN DUPLICADOS Y SE ORDENA LA LISTA\n",
    "categories = list(set(categories))\n",
    "categories.sort()\n",
    "print(f'Total de categorias: {len(categories)}')"
   ]
  },
  {
   "cell_type": "code",
   "execution_count": 14,
   "metadata": {},
   "outputs": [
    {
     "data": {
      "text/html": [
       "<div>\n",
       "<style scoped>\n",
       "    .dataframe tbody tr th:only-of-type {\n",
       "        vertical-align: middle;\n",
       "    }\n",
       "\n",
       "    .dataframe tbody tr th {\n",
       "        vertical-align: top;\n",
       "    }\n",
       "\n",
       "    .dataframe thead th {\n",
       "        text-align: right;\n",
       "    }\n",
       "</style>\n",
       "<table border=\"1\" class=\"dataframe\">\n",
       "  <thead>\n",
       "    <tr style=\"text-align: right;\">\n",
       "      <th></th>\n",
       "      <th>category_id</th>\n",
       "      <th>name</th>\n",
       "    </tr>\n",
       "  </thead>\n",
       "  <tbody>\n",
       "    <tr>\n",
       "      <th>0</th>\n",
       "      <td>1</td>\n",
       "      <td>Accounting</td>\n",
       "    </tr>\n",
       "    <tr>\n",
       "      <th>1</th>\n",
       "      <td>2</td>\n",
       "      <td>Adobe Photoshop</td>\n",
       "    </tr>\n",
       "    <tr>\n",
       "      <th>2</th>\n",
       "      <td>3</td>\n",
       "      <td>Adventure stories</td>\n",
       "    </tr>\n",
       "    <tr>\n",
       "      <th>3</th>\n",
       "      <td>4</td>\n",
       "      <td>Aesthetics</td>\n",
       "    </tr>\n",
       "    <tr>\n",
       "      <th>4</th>\n",
       "      <td>5</td>\n",
       "      <td>Agriculture</td>\n",
       "    </tr>\n",
       "  </tbody>\n",
       "</table>\n",
       "</div>"
      ],
      "text/plain": [
       "   category_id               name\n",
       "0            1         Accounting\n",
       "1            2    Adobe Photoshop\n",
       "2            3  Adventure stories\n",
       "3            4         Aesthetics\n",
       "4            5        Agriculture"
      ]
     },
     "execution_count": 14,
     "metadata": {},
     "output_type": "execute_result"
    }
   ],
   "source": [
    "#SE CREA DATAFRAME PARA ALOJAR LA TABLA\n",
    "df_categories = pd.DataFrame({  'category_id':range(1,len(categories)+1),\n",
    "                                'name': categories})\n",
    "\n",
    "df_categories.head()"
   ]
  },
  {
   "cell_type": "markdown",
   "metadata": {},
   "source": [
    "#### Tabla publisher"
   ]
  },
  {
   "cell_type": "code",
   "execution_count": 15,
   "metadata": {},
   "outputs": [
    {
     "data": {
      "text/html": [
       "<div>\n",
       "<style scoped>\n",
       "    .dataframe tbody tr th:only-of-type {\n",
       "        vertical-align: middle;\n",
       "    }\n",
       "\n",
       "    .dataframe tbody tr th {\n",
       "        vertical-align: top;\n",
       "    }\n",
       "\n",
       "    .dataframe thead th {\n",
       "        text-align: right;\n",
       "    }\n",
       "</style>\n",
       "<table border=\"1\" class=\"dataframe\">\n",
       "  <thead>\n",
       "    <tr style=\"text-align: right;\">\n",
       "      <th></th>\n",
       "      <th>publisher_id</th>\n",
       "      <th>name</th>\n",
       "    </tr>\n",
       "  </thead>\n",
       "  <tbody>\n",
       "    <tr>\n",
       "      <th>0</th>\n",
       "      <td>1</td>\n",
       "      <td>22 Lions</td>\n",
       "    </tr>\n",
       "    <tr>\n",
       "      <th>1</th>\n",
       "      <td>2</td>\n",
       "      <td>2samaræ</td>\n",
       "    </tr>\n",
       "    <tr>\n",
       "      <th>2</th>\n",
       "      <td>3</td>\n",
       "      <td>978-987-572-875-2</td>\n",
       "    </tr>\n",
       "    <tr>\n",
       "      <th>3</th>\n",
       "      <td>4</td>\n",
       "      <td>A Fuego Lento Ediciones</td>\n",
       "    </tr>\n",
       "    <tr>\n",
       "      <th>4</th>\n",
       "      <td>5</td>\n",
       "      <td>AGUILAR</td>\n",
       "    </tr>\n",
       "  </tbody>\n",
       "</table>\n",
       "</div>"
      ],
      "text/plain": [
       "   publisher_id                     name\n",
       "0             1                 22 Lions\n",
       "1             2                  2samaræ\n",
       "2             3        978-987-572-875-2\n",
       "3             4  A Fuego Lento Ediciones\n",
       "4             5                  AGUILAR"
      ]
     },
     "execution_count": 15,
     "metadata": {},
     "output_type": "execute_result"
    }
   ],
   "source": [
    "#PREPARACION TABLA PUBLISERS\n",
    "publishers = [book['publisher'] for book in books if book['publisher']]\n",
    "\n",
    "publishers = list(set(publishers))\n",
    "\n",
    "publishers.sort()\n",
    "\n",
    "df_publ = pd.DataFrame({'publisher_id':range(1, len(publishers)+1),\n",
    "                        'name' : publishers})\n",
    "\n",
    "df_publ.head()"
   ]
  },
  {
   "cell_type": "code",
   "execution_count": 16,
   "metadata": {},
   "outputs": [
    {
     "data": {
      "text/html": [
       "<div>\n",
       "<style scoped>\n",
       "    .dataframe tbody tr th:only-of-type {\n",
       "        vertical-align: middle;\n",
       "    }\n",
       "\n",
       "    .dataframe tbody tr th {\n",
       "        vertical-align: top;\n",
       "    }\n",
       "\n",
       "    .dataframe thead th {\n",
       "        text-align: right;\n",
       "    }\n",
       "</style>\n",
       "<table border=\"1\" class=\"dataframe\">\n",
       "  <thead>\n",
       "    <tr style=\"text-align: right;\">\n",
       "      <th></th>\n",
       "      <th>title</th>\n",
       "      <th>category</th>\n",
       "      <th>authors</th>\n",
       "      <th>publisher</th>\n",
       "      <th>publishedDate</th>\n",
       "      <th>pageCount</th>\n",
       "      <th>language</th>\n",
       "      <th>price</th>\n",
       "    </tr>\n",
       "  </thead>\n",
       "  <tbody>\n",
       "    <tr>\n",
       "      <th>0</th>\n",
       "      <td>La metamorfosis</td>\n",
       "      <td>[Fiction]</td>\n",
       "      <td>[Franz Kafka]</td>\n",
       "      <td>CASTALIA</td>\n",
       "      <td>2012.0</td>\n",
       "      <td>62.0</td>\n",
       "      <td>es</td>\n",
       "      <td>8.772099</td>\n",
       "    </tr>\n",
       "    <tr>\n",
       "      <th>1</th>\n",
       "      <td>El Sabueso de los Baskerville</td>\n",
       "      <td>[Fiction]</td>\n",
       "      <td>[Arthur Conan Doyle]</td>\n",
       "      <td>Taylor &amp; Francis</td>\n",
       "      <td>2001.0</td>\n",
       "      <td>242.0</td>\n",
       "      <td>es</td>\n",
       "      <td>8.772099</td>\n",
       "    </tr>\n",
       "    <tr>\n",
       "      <th>2</th>\n",
       "      <td>El idiota</td>\n",
       "      <td>[Fiction]</td>\n",
       "      <td>[Fiódor Dostoievski]</td>\n",
       "      <td>e-artnow</td>\n",
       "      <td>2015.0</td>\n",
       "      <td>809.0</td>\n",
       "      <td>es</td>\n",
       "      <td>0.990000</td>\n",
       "    </tr>\n",
       "    <tr>\n",
       "      <th>3</th>\n",
       "      <td>Antígona: Tragedia clásica griega</td>\n",
       "      <td>[Fiction]</td>\n",
       "      <td>[Sófocles,]</td>\n",
       "      <td>IberiaLiteratura</td>\n",
       "      <td>2015.0</td>\n",
       "      <td>59.0</td>\n",
       "      <td>es</td>\n",
       "      <td>8.772099</td>\n",
       "    </tr>\n",
       "    <tr>\n",
       "      <th>4</th>\n",
       "      <td>El juguete rabioso</td>\n",
       "      <td>[Fiction]</td>\n",
       "      <td>[Roberto Arlt]</td>\n",
       "      <td>BoD - Books on Demand</td>\n",
       "      <td>2023.0</td>\n",
       "      <td>131.0</td>\n",
       "      <td>es</td>\n",
       "      <td>8.772099</td>\n",
       "    </tr>\n",
       "  </tbody>\n",
       "</table>\n",
       "</div>"
      ],
      "text/plain": [
       "                               title   category               authors  \\\n",
       "0                    La metamorfosis  [Fiction]         [Franz Kafka]   \n",
       "1      El Sabueso de los Baskerville  [Fiction]  [Arthur Conan Doyle]   \n",
       "2                          El idiota  [Fiction]  [Fiódor Dostoievski]   \n",
       "3  Antígona: Tragedia clásica griega  [Fiction]           [Sófocles,]   \n",
       "4                 El juguete rabioso  [Fiction]        [Roberto Arlt]   \n",
       "\n",
       "               publisher  publishedDate  pageCount language     price  \n",
       "0               CASTALIA         2012.0       62.0       es  8.772099  \n",
       "1       Taylor & Francis         2001.0      242.0       es  8.772099  \n",
       "2               e-artnow         2015.0      809.0       es  0.990000  \n",
       "3       IberiaLiteratura         2015.0       59.0       es  8.772099  \n",
       "4  BoD - Books on Demand         2023.0      131.0       es  8.772099  "
      ]
     },
     "execution_count": 16,
     "metadata": {},
     "output_type": "execute_result"
    }
   ],
   "source": [
    "#APERTURA DE ARCHIVO\n",
    "df.head()"
   ]
  }
 ],
 "metadata": {
  "kernelspec": {
   "display_name": "Python 3",
   "language": "python",
   "name": "python3"
  },
  "language_info": {
   "codemirror_mode": {
    "name": "ipython",
    "version": 3
   },
   "file_extension": ".py",
   "mimetype": "text/x-python",
   "name": "python",
   "nbconvert_exporter": "python",
   "pygments_lexer": "ipython3",
   "version": "3.12.2"
  }
 },
 "nbformat": 4,
 "nbformat_minor": 2
}
