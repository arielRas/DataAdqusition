{
 "cells": [
  {
   "cell_type": "markdown",
   "metadata": {},
   "source": [
    "### OBTENCION DE DATOS API MERCADOLIBRE"
   ]
  },
  {
   "cell_type": "markdown",
   "metadata": {},
   "source": [
    "#### Importacion de librerias necesarias"
   ]
  },
  {
   "cell_type": "code",
   "execution_count": 1,
   "metadata": {},
   "outputs": [],
   "source": [
    "import json\n",
    "import requests\n",
    "from urllib.parse import quote\n",
    "import pandas as pd"
   ]
  },
  {
   "cell_type": "markdown",
   "metadata": {},
   "source": [
    "#### Obtencion de categorias"
   ]
  },
  {
   "cell_type": "markdown",
   "metadata": {},
   "source": [
    "El objetivo de esta seccion es obtener un listado de las categorias y sub-categorias disponibles actualmente en la API de **MercadoLibre (https://developers.mercadolibre.com.ar/)** utilizando la libreria **requests** de python.<br>Como primer paso se hace una request a la API para obtener el listado de las categorias principales.  "
   ]
  },
  {
   "cell_type": "code",
   "execution_count": 2,
   "metadata": {},
   "outputs": [],
   "source": [
    "#REQUEST PARA OBTENER LAS CATEGORIAS PRINCIPALES\n",
    "url = \"https://api.mercadolibre.com/sites/MLA/categories\"\n",
    "response = requests.get(url)"
   ]
  },
  {
   "cell_type": "markdown",
   "metadata": {},
   "source": [
    "De la respuesta obtenida se extraen los los ID de las categorias principales. El objetivo de esto es hacer una request por cada ID de categoria pricipal y asi obtener los datos completos de estas, incluidas las subcategorias."
   ]
  },
  {
   "cell_type": "code",
   "execution_count": 3,
   "metadata": {},
   "outputs": [
    {
     "name": "stdout",
     "output_type": "stream",
     "text": [
      "['MLA5725', 'MLA1512', 'MLA1403', 'MLA1071', 'MLA1367', 'MLA1368', 'MLA1743', 'MLA1384', 'MLA1246', 'MLA1039', 'MLA1051', 'MLA1648', 'MLA1144', 'MLA1500', 'MLA1276', 'MLA5726', 'MLA1000', 'MLA2547', 'MLA407134', 'MLA1574', 'MLA1499', 'MLA1459', 'MLA1182', 'MLA3937', 'MLA1132', 'MLA3025', 'MLA1168', 'MLA1430', 'MLA409431', 'MLA1540', 'MLA9304', 'MLA1953']\n"
     ]
    }
   ],
   "source": [
    "#OBTENCION DE LOS ID DE LAS CATEGORIAS PRINCIPALES\n",
    "if response.status_code == 200:\n",
    "    id_list = [item['id'] for item in response.json()]    \n",
    "else:\n",
    "    print(response.status_code)\n",
    "print(id_list)"
   ]
  },
  {
   "cell_type": "markdown",
   "metadata": {},
   "source": [
    "Como se menciono anteriormente se generea una request para cada \"id\" de la lista **id_list** y se alojan los resultados obtenidos en la lista **categories**. El resultado obtenido es una lista de diccionarios."
   ]
  },
  {
   "cell_type": "code",
   "execution_count": 4,
   "metadata": {},
   "outputs": [],
   "source": [
    "#OBTENCION DE INFORMACION Y SUBCATEGORIAS DE LAS CATEGORIAS POR SU ID  \n",
    "categories = []\n",
    "\n",
    "for id in id_list:\n",
    "    response = requests.get(f\"https://api.mercadolibre.com/categories/{id}\")\n",
    "    if response.status_code == 200:\n",
    "        categories.append(response.json())"
   ]
  },
  {
   "cell_type": "markdown",
   "metadata": {},
   "source": [
    "Se crean dos funciones para obtener los datos datos de interes de la lista de categorias y sus respectivas categorias hijas. "
   ]
  },
  {
   "cell_type": "code",
   "execution_count": 5,
   "metadata": {},
   "outputs": [],
   "source": [
    "#FUNCION PARA PARA TRAER INFORMACION DE TODAS LAS CATEGORIAS\n",
    "def get_categories(data:list) -> list:\n",
    "    categories = []        \n",
    "    for item in data:\n",
    "        id = item.get('id', None)\n",
    "        category = {\n",
    "                'id': id,\n",
    "                'name': item.get('name', None) ,\n",
    "                'is_subcategoy': False,\n",
    "                'father_cat': None\n",
    "            }\n",
    "        categories.append(category)\n",
    "        if 'children_categories' in item:\n",
    "            categories.extend(get_sub_categories(item['children_categories'], id))            \n",
    "    return categories\n",
    "\n",
    "\n",
    "#FUNCION PARA RETORNAR LAS SUBCATEGORIAS\n",
    "def get_sub_categories(sub_categories:list, father_cat_id:str) -> list:\n",
    "    sub_category_list = []\n",
    "    for sub_cat in sub_categories:\n",
    "        sub_category_list.append( \n",
    "            {\n",
    "                'id': sub_cat.get('id', None),\n",
    "                'name': sub_cat.get('name', None),\n",
    "                'is_subcategoy': True,\n",
    "                'father_cat': father_cat_id\n",
    "            }\n",
    "        )       \n",
    "    return sub_category_list "
   ]
  },
  {
   "cell_type": "markdown",
   "metadata": {},
   "source": [
    "Haciendo uso de las funciones creadas anteriormente se extraen los datos de interes y se los aloja en la lista **categories**, en formato de diccionario."
   ]
  },
  {
   "cell_type": "code",
   "execution_count": 6,
   "metadata": {},
   "outputs": [],
   "source": [
    "#OBTENCION DE DATOS DE INTERES DE CATEGORIAS Y SUBCATEGORIAS\n",
    "categories = get_categories(categories)"
   ]
  },
  {
   "cell_type": "markdown",
   "metadata": {},
   "source": [
    "Se guarda el archivo **JSON** de manera local"
   ]
  },
  {
   "cell_type": "code",
   "execution_count": 7,
   "metadata": {},
   "outputs": [],
   "source": [
    "#SE GUARDA LOS DATOS EN UN ARCHIVO JSON\n",
    "with open('MeliCategorias.json', 'w') as file:\n",
    "    json.dump(categories, file, indent=4, separators=(',',':'))"
   ]
  },
  {
   "cell_type": "markdown",
   "metadata": {},
   "source": [
    "Utilizando **Pandas** se puede leer la lista de diccionarios (**categories**) para obtener un **Dataframe** y manipular los datos segun la necesidad."
   ]
  },
  {
   "cell_type": "code",
   "execution_count": 8,
   "metadata": {},
   "outputs": [
    {
     "data": {
      "text/html": [
       "<div>\n",
       "<style scoped>\n",
       "    .dataframe tbody tr th:only-of-type {\n",
       "        vertical-align: middle;\n",
       "    }\n",
       "\n",
       "    .dataframe tbody tr th {\n",
       "        vertical-align: top;\n",
       "    }\n",
       "\n",
       "    .dataframe thead th {\n",
       "        text-align: right;\n",
       "    }\n",
       "</style>\n",
       "<table border=\"1\" class=\"dataframe\">\n",
       "  <thead>\n",
       "    <tr style=\"text-align: right;\">\n",
       "      <th></th>\n",
       "      <th>id</th>\n",
       "      <th>name</th>\n",
       "      <th>is_subcategoy</th>\n",
       "      <th>father_cat</th>\n",
       "    </tr>\n",
       "  </thead>\n",
       "  <tbody>\n",
       "    <tr>\n",
       "      <th>0</th>\n",
       "      <td>MLA5725</td>\n",
       "      <td>Accesorios para Vehículos</td>\n",
       "      <td>False</td>\n",
       "      <td>None</td>\n",
       "    </tr>\n",
       "    <tr>\n",
       "      <th>1</th>\n",
       "      <td>MLA4711</td>\n",
       "      <td>Acc. para Motos y Cuatriciclos</td>\n",
       "      <td>True</td>\n",
       "      <td>MLA5725</td>\n",
       "    </tr>\n",
       "    <tr>\n",
       "      <th>2</th>\n",
       "      <td>MLA417044</td>\n",
       "      <td>Accesorios Náuticos</td>\n",
       "      <td>True</td>\n",
       "      <td>MLA5725</td>\n",
       "    </tr>\n",
       "    <tr>\n",
       "      <th>3</th>\n",
       "      <td>MLA6520</td>\n",
       "      <td>Accesorios de Auto y Camioneta</td>\n",
       "      <td>True</td>\n",
       "      <td>MLA5725</td>\n",
       "    </tr>\n",
       "    <tr>\n",
       "      <th>4</th>\n",
       "      <td>MLA86360</td>\n",
       "      <td>Accesorios para Línea Pesada</td>\n",
       "      <td>True</td>\n",
       "      <td>MLA5725</td>\n",
       "    </tr>\n",
       "  </tbody>\n",
       "</table>\n",
       "</div>"
      ],
      "text/plain": [
       "          id                            name  is_subcategoy father_cat\n",
       "0    MLA5725       Accesorios para Vehículos          False       None\n",
       "1    MLA4711  Acc. para Motos y Cuatriciclos           True    MLA5725\n",
       "2  MLA417044             Accesorios Náuticos           True    MLA5725\n",
       "3    MLA6520  Accesorios de Auto y Camioneta           True    MLA5725\n",
       "4   MLA86360    Accesorios para Línea Pesada           True    MLA5725"
      ]
     },
     "execution_count": 8,
     "metadata": {},
     "output_type": "execute_result"
    }
   ],
   "source": [
    "df = pd.DataFrame(categories)\n",
    "df.head()"
   ]
  },
  {
   "cell_type": "markdown",
   "metadata": {},
   "source": [
    "Tambien se puede leer el archivo **JSON** creado anteriormente utilizando un **DataFrame** de **Pandas**"
   ]
  },
  {
   "cell_type": "code",
   "execution_count": 9,
   "metadata": {},
   "outputs": [
    {
     "data": {
      "text/html": [
       "<div>\n",
       "<style scoped>\n",
       "    .dataframe tbody tr th:only-of-type {\n",
       "        vertical-align: middle;\n",
       "    }\n",
       "\n",
       "    .dataframe tbody tr th {\n",
       "        vertical-align: top;\n",
       "    }\n",
       "\n",
       "    .dataframe thead th {\n",
       "        text-align: right;\n",
       "    }\n",
       "</style>\n",
       "<table border=\"1\" class=\"dataframe\">\n",
       "  <thead>\n",
       "    <tr style=\"text-align: right;\">\n",
       "      <th></th>\n",
       "      <th>id</th>\n",
       "      <th>name</th>\n",
       "      <th>is_subcategoy</th>\n",
       "      <th>father_cat</th>\n",
       "    </tr>\n",
       "  </thead>\n",
       "  <tbody>\n",
       "    <tr>\n",
       "      <th>0</th>\n",
       "      <td>MLA5725</td>\n",
       "      <td>Accesorios para Vehículos</td>\n",
       "      <td>False</td>\n",
       "      <td>None</td>\n",
       "    </tr>\n",
       "    <tr>\n",
       "      <th>1</th>\n",
       "      <td>MLA4711</td>\n",
       "      <td>Acc. para Motos y Cuatriciclos</td>\n",
       "      <td>True</td>\n",
       "      <td>MLA5725</td>\n",
       "    </tr>\n",
       "    <tr>\n",
       "      <th>2</th>\n",
       "      <td>MLA417044</td>\n",
       "      <td>Accesorios Náuticos</td>\n",
       "      <td>True</td>\n",
       "      <td>MLA5725</td>\n",
       "    </tr>\n",
       "    <tr>\n",
       "      <th>3</th>\n",
       "      <td>MLA6520</td>\n",
       "      <td>Accesorios de Auto y Camioneta</td>\n",
       "      <td>True</td>\n",
       "      <td>MLA5725</td>\n",
       "    </tr>\n",
       "    <tr>\n",
       "      <th>4</th>\n",
       "      <td>MLA86360</td>\n",
       "      <td>Accesorios para Línea Pesada</td>\n",
       "      <td>True</td>\n",
       "      <td>MLA5725</td>\n",
       "    </tr>\n",
       "  </tbody>\n",
       "</table>\n",
       "</div>"
      ],
      "text/plain": [
       "          id                            name  is_subcategoy father_cat\n",
       "0    MLA5725       Accesorios para Vehículos          False       None\n",
       "1    MLA4711  Acc. para Motos y Cuatriciclos           True    MLA5725\n",
       "2  MLA417044             Accesorios Náuticos           True    MLA5725\n",
       "3    MLA6520  Accesorios de Auto y Camioneta           True    MLA5725\n",
       "4   MLA86360    Accesorios para Línea Pesada           True    MLA5725"
      ]
     },
     "execution_count": 9,
     "metadata": {},
     "output_type": "execute_result"
    }
   ],
   "source": [
    "df = pd.read_json('MeliCategorias.json')\n",
    "df.head()"
   ]
  },
  {
   "cell_type": "markdown",
   "metadata": {},
   "source": [
    "#### Obtencion de publicaciones"
   ]
  },
  {
   "cell_type": "markdown",
   "metadata": {},
   "source": [
    "El objetivo de esta seccion es obtener un listado de publicaciones de \"vehiculos\" desde la API de **MercadoLibre (https://developers.mercadolibre.com.ar/)** utilizando la libreria **requests** de python.<br>En primer lugar se crea una lista(**cars**) que aloja diferentes modelos de vehiculos disponibles en el mercado automotriz, posteriormente mediante el uso de la libreria **urllib** y su metodo **quote** se codifica la lista **cars** a fin de transformar ciertos caracteres para mantener la integridad de la URL al momento de realizar la request."
   ]
  },
  {
   "cell_type": "code",
   "execution_count": 10,
   "metadata": {},
   "outputs": [],
   "source": [
    "#LISTA DE MODELOS DE VEHICULOS\n",
    "cars = [    'Volkswagen gol','Volkswagen gol trend', 'Volkswagen up', 'Volkswagen bora', 'Volkswagen vento', 'Volkswagen polo', 'Volkswagen amarok',\n",
    "            'Chevrolet corsa', 'Chevrolet onix', 'Chevrolet agile', 'Chevrolet prisma', 'Chevrolet cruze', 'Chevrolet aveo', 'Chevrolet tracker',\n",
    "            'Renault clio', 'Renault sandero', 'Renault fluence', 'Renault logan', 'Reanault partner', 'Renault capture',\n",
    "            'Peugeot 206', 'Peugeot 207', 'Peugeot 208', 'Peugeot 307','Peugeot 308', 'Peugeot 407', 'Peugeot 408',\n",
    "            'Fiat cronos', 'Fiat argos', 'Fiat toro', 'Fiat palio', 'Fiat siena', 'Fiat uno',                   \n",
    "            'Ford fiesta', 'Ford Ecosport', 'Ford ka', 'Ford ranger', 'Ford focus',\n",
    "            'Toyota etios', 'Toyota hilux', 'Toyota corolla', 'Toyota yaris', \n",
    "            'Honda civic' ]\n",
    "\n",
    "#CODIFICACION DE NOMBRES\n",
    "cars_codif = []\n",
    "for car in cars:\n",
    "    cars_codif.append(quote(car))"
   ]
  },
  {
   "cell_type": "markdown",
   "metadata": {},
   "source": [
    "Con la finalidad de realizar una request por cada modelo de automovil en la lista, se crea la funcion **get_publications()**. Esta funcion  devuelve una lista de diccionarios, cada uno de estos diccionarios representa una publicacion de **MercadoLibre**. Dentro de la logica de la funcion se establece un maximo de 250 publicaciones por vehiculo."
   ]
  },
  {
   "cell_type": "code",
   "execution_count": 11,
   "metadata": {},
   "outputs": [],
   "source": [
    "#FUNCION RECURSIVA PARA OBTENER LAS PUBLICACIONES DE CADA VEHICULO\n",
    "def get_publications(car:str, offset:int, publications_list:list) -> list:\n",
    "    url = f'https://api.mercadolibre.com/sites/MLA/search?q={car}&offset={offset}'\n",
    "    response = requests.get(url)\n",
    "    if response.status_code != 200:\n",
    "        raise Exception(f'Codigo de estado: {response.status_code}, en el vehiculo: {car}')    \n",
    "    publications = response.json()\n",
    "    if publications['results']:\n",
    "        publications_list.extend(publication for publication in publications['results'])\n",
    "    if publications['results'] and offset < 400:\n",
    "        return get_publications(car, offset+50, publications_list)          \n",
    "    return publications_list"
   ]
  },
  {
   "cell_type": "markdown",
   "metadata": {},
   "source": [
    "Se crea la lista **publications** la cual alojará los diccionarios obtenidos de la funcion **get_publications()**. Acto seguido ejecuta un ciclo for a fines de recorrer la lista **cars_codif** y ejecutar la funcion **get_publications()** por cada uno de los elementos en la lista, luego los resultados obtenidos se guardan en las lista **publications**"
   ]
  },
  {
   "cell_type": "code",
   "execution_count": 12,
   "metadata": {},
   "outputs": [
    {
     "name": "stdout",
     "output_type": "stream",
     "text": [
      "La cantidad de publicaciones obtenidas es: 16977\n"
     ]
    }
   ],
   "source": [
    "#LISTA VACIA PARA GUARDAR LAS PUBLICACIONES OBTENIDAS\n",
    "publications = []\n",
    "\n",
    "#SE OBTIENEN LAS PUBLICACIONES DE LOS MODELOS DE VEHICULOS SELECCIONADOS\n",
    "for car in cars_codif:\n",
    "    try:\n",
    "        publications.extend(get_publications(car, 0, []))\n",
    "    except Exception as ex:\n",
    "        print(ex)\n",
    "\n",
    "#CANTIDAD DE PUBLICACIONES OBTENIDAS\n",
    "print(f'La cantidad de publicaciones obtenidas es: {len(publications)}')"
   ]
  },
  {
   "cell_type": "markdown",
   "metadata": {},
   "source": [
    "Se guarda un archivo **JSON** con el resultado obtenido en el paso anterior"
   ]
  },
  {
   "cell_type": "code",
   "execution_count": 13,
   "metadata": {},
   "outputs": [],
   "source": [
    "#GUARDADO DE JSON\n",
    "with open('MeliDataPubl.json','w') as file:\n",
    "    json.dump(publications, file, indent=4, separators=(',',':'))"
   ]
  },
  {
   "cell_type": "markdown",
   "metadata": {},
   "source": [
    "#### Extraccion de los datos de interes"
   ]
  },
  {
   "cell_type": "markdown",
   "metadata": {},
   "source": [
    "Con la finalidad de estructurar los datos extraidos de la API anteriormente se crea la clase **CarPublicaction()** la cual aloja en sus atributos los datos de interes de las publicaciones que se obtubieron. Tambien se crea la clase **CarPublicationBuilder()** cuya responsabilidad es extraer de un diccionario(publicacion) los datos de interes y devolver una instancia de la clase **CarPublicaction()** con sus atributos seteados"
   ]
  },
  {
   "cell_type": "code",
   "execution_count": 14,
   "metadata": {},
   "outputs": [],
   "source": [
    "class CarPublication():\n",
    "    def __init__(self):\n",
    "        self.id = None\n",
    "        self.category_id = None\n",
    "        self.title = None\n",
    "        self.condition = None\n",
    "        self.car_year = None\n",
    "        self.brand = None\n",
    "        self.model = None\n",
    "        self.version = None\n",
    "        self.engine = None\n",
    "        self.engine_power = None\n",
    "        self.doors = None        \n",
    "        self.km = None\n",
    "        self.fuel_type = None        \n",
    "        self.traction_control = None\n",
    "        self.passenger_capacity = None\n",
    "        self.transmission = None\n",
    "        self.currency = None\n",
    "        self.price = None\n",
    "        self.seller_id = None\n",
    "        self.seller_nickname = None\n",
    "        self.is_car_shop = None\n",
    "        self.seller_country = None\n",
    "        self.seller_state = None\n",
    "        self.seller_city = None\n",
    "        self.seller_neighborhood = None"
   ]
  },
  {
   "cell_type": "code",
   "execution_count": 15,
   "metadata": {},
   "outputs": [],
   "source": [
    "class CarPublicationBuilder():\n",
    "    def __init__(self, publication:dict):\n",
    "         self.publication = publication\n",
    "\n",
    "    def build(self):\n",
    "        car_publication = CarPublication()\n",
    "        car_publication.id = self.__get_id()\n",
    "        car_publication.category_id = self.__get_category_id()\n",
    "        car_publication.title = self.__get_title()\n",
    "        car_publication.condition = self.__get_condition()\n",
    "        car_publication.car_year = self.__get_car_year()\n",
    "        car_publication.brand = self.__get_brand()\n",
    "        car_publication.model = self.__get_model()\n",
    "        car_publication.version = self.__get_version()\n",
    "        car_publication.engine = self.__get_engine()\n",
    "        car_publication.engine_power = self.__get_engine_power()\n",
    "        car_publication.doors = self.__get_doors()\n",
    "        car_publication.km = self.__get_km()\n",
    "        car_publication.fuel_type = self.__get_fuel_type()\n",
    "        car_publication.traction_control = self.__get_traction_control()\n",
    "        car_publication.passenger_capacity = self.__get_passenger_capacity()\n",
    "        car_publication.transmission = self.__get_transmission()\n",
    "        car_publication.currency = self.__get_currency()\n",
    "        car_publication.price = self.__get_price()\n",
    "        car_publication.seller_id = self.__get_seller_id()\n",
    "        car_publication.seller_nickname = self.__get_seller_nickname()\n",
    "        car_publication.is_car_shop = self.__get_is_oficial_store()\n",
    "        car_publication.seller_country = self.__get_seller_country()\n",
    "        car_publication.seller_state = self.__get_seller_state()\n",
    "        car_publication.seller_city = self.__get_seller_city()\n",
    "        car_publication.seller_neighborhood = self.__get_seller_neighborhood()\n",
    "        return car_publication\n",
    "\n",
    "    def __get_id(self):\n",
    "        return self.publication.get('id', None)\n",
    "    \n",
    "    def __get_category_id(self):\n",
    "        return self.publication.get('category_id', None)\n",
    "    \n",
    "    def __get_title(self):\n",
    "        return self.publication.get('title', None)\n",
    "    \n",
    "    def __get_condition(self):\n",
    "        for item in self.publication['attributes']:\n",
    "            if ('id' in item) and (item['id'] == 'ITEM_CONDITION'):\n",
    "                return item['value_name']\n",
    "        return None\n",
    "    \n",
    "    def __get_car_year(self):\n",
    "        for item in self.publication['attributes']:\n",
    "            if ('id' in item) and (item['id'] == 'VEHICLE_YEAR'):\n",
    "                return item['value_name']\n",
    "        return None\n",
    "    \n",
    "    def __get_brand(self):\n",
    "        for item in self.publication['attributes']:\n",
    "            if ('id' in item) and (item['id'] == 'BRAND'):\n",
    "                return item['value_name']\n",
    "        return None\n",
    "    \n",
    "    def __get_model(self):\n",
    "        for item in self.publication['attributes']:\n",
    "            if ('id' in item) and (item['id'] == 'MODEL'):\n",
    "                return item['value_name']\n",
    "        return None\n",
    "    \n",
    "    def __get_version(self):\n",
    "        for item in self.publication['attributes']:\n",
    "            if ('id' in item) and (item['id'] == 'TRIM'):\n",
    "                return item['value_name']\n",
    "        return None\n",
    "    \n",
    "    def __get_engine(self):\n",
    "        for item in self.publication['attributes']:\n",
    "            if ('id' in item) and (item['id'] == 'ENGINE'):\n",
    "                return item['value_name']\n",
    "        return None\n",
    "    \n",
    "    def __get_engine_power(self):\n",
    "        for item in self.publication['attributes']:\n",
    "            if ('id' in item) and (item['id'] == 'POWER'):\n",
    "                return item['value_name']\n",
    "        return None\n",
    "    \n",
    "    def __get_doors(self):\n",
    "        for item in self.publication['attributes']:\n",
    "            if ('id' in item) and (item['id'] == 'DOORS'):\n",
    "                return item['value_name']\n",
    "        return None\n",
    "    \n",
    "    def __get_km(self):\n",
    "        for item in self.publication['attributes']:\n",
    "            if ('id' in item) and (item['id'] == 'KILOMETERS'):\n",
    "                return item['value_name']\n",
    "        return None\n",
    "    \n",
    "    def __get_fuel_type(self):\n",
    "        for item in self.publication['attributes']:\n",
    "            if ('id' in item) and (item['id'] == 'FUEL_TYPE'):\n",
    "                return item['value_name']\n",
    "        return None\n",
    "    \n",
    "    def __get_traction_control(self):\n",
    "        for item in self.publication['attributes']:\n",
    "            if ('id' in item) and (item['id'] == 'TRACTION_CONTROL'):\n",
    "                return item['value_name']\n",
    "        return None\n",
    "    \n",
    "    def __get_passenger_capacity(self):\n",
    "        for item in self.publication['attributes']:\n",
    "            if ('id' in item) and (item['id'] == 'PASSENGER_CAPACITY'):\n",
    "                return item['value_name']\n",
    "        return None\n",
    "    \n",
    "    def __get_transmission(self):\n",
    "        for item in self.publication['attributes']:\n",
    "            if ('id' in item) and (item['id'] == 'TRANSMISSION'):\n",
    "                return item['value_name']\n",
    "        return None\n",
    "    \n",
    "    def __get_currency(self):\n",
    "        return self.publication.get('currency_id', None)\n",
    "    \n",
    "    def __get_price(self):\n",
    "        return self.publication.get('price', None)\n",
    "    \n",
    "    def __get_seller_id(self):\n",
    "        return self.publication.get('seller', {}).get('id', None)\n",
    "    \n",
    "    def __get_seller_nickname(self):\n",
    "        return self.publication.get('seller', {}).get('nickname', None)\n",
    "    \n",
    "    def __get_is_oficial_store(self):\n",
    "        return self.publication.get('official_store_id', None) is not None\n",
    "    \n",
    "    def __get_seller_country(self):\n",
    "        return self.publication.get('location',{}).get('country', {}).get('name', None)\n",
    "    \n",
    "    def __get_seller_state(self):\n",
    "        return self.publication.get('location',{}).get('state', {}).get('name', None)\n",
    "    \n",
    "    def __get_seller_city(self):\n",
    "        return self.publication.get('location',{}).get('city', {}).get('name', None)\n",
    "    \n",
    "    def __get_seller_neighborhood(self):\n",
    "        return self.publication.get('location',{}).get('neighborhood', {}).get('name', None)"
   ]
  },
  {
   "cell_type": "markdown",
   "metadata": {},
   "source": [
    "Mediante un ciclo for se recorre **publications_list** con la finalidad de ejecutar una instancia de la clase **CarPublicationBuilder()** y obtener una objeto de tipo **CarPublicaction()** por cada diccionario en **publications** "
   ]
  },
  {
   "cell_type": "code",
   "execution_count": 16,
   "metadata": {},
   "outputs": [
    {
     "name": "stdout",
     "output_type": "stream",
     "text": [
      "Cantidad de registros obtenidos: 16977\n"
     ]
    }
   ],
   "source": [
    "#CICLO PARA RECORRER LAS PUBLICACIONES OBTENIDAS Y EXTRAER LA INFIORMACION DE INTERES\n",
    "car_publications = [\n",
    "    CarPublicationBuilder(publication).build()\n",
    "    for publication in publications\n",
    "]\n",
    "\n",
    "#CANTIDAD DE PUBLICACIONES EXTRAIDAS\n",
    "print(f'Cantidad de registros obtenidos: {len(car_publications)}')"
   ]
  },
  {
   "cell_type": "markdown",
   "metadata": {},
   "source": [
    "Se guarda el resultado obtenido en un archivo **JSON** de manera local"
   ]
  },
  {
   "cell_type": "code",
   "execution_count": 17,
   "metadata": {},
   "outputs": [],
   "source": [
    "#CICLO PARA COVERTIR LAS CLASES EN DICCIONARIOS\n",
    "car_publications = [vars(publication) for publication in car_publications]\n",
    "\n",
    "with open('MeliCarPublications.json','w' ) as file:\n",
    "    json.dump(car_publications, file, indent=4, separators=(',',':'))"
   ]
  },
  {
   "cell_type": "markdown",
   "metadata": {},
   "source": [
    "Utilizando **Pandas** se puede leer la lista de diccionarios (**car_publications**) para obtener un **Dataframe** y manipular los datos segun la necesidad."
   ]
  },
  {
   "cell_type": "code",
   "execution_count": 18,
   "metadata": {},
   "outputs": [
    {
     "data": {
      "text/html": [
       "<div>\n",
       "<style scoped>\n",
       "    .dataframe tbody tr th:only-of-type {\n",
       "        vertical-align: middle;\n",
       "    }\n",
       "\n",
       "    .dataframe tbody tr th {\n",
       "        vertical-align: top;\n",
       "    }\n",
       "\n",
       "    .dataframe thead th {\n",
       "        text-align: right;\n",
       "    }\n",
       "</style>\n",
       "<table border=\"1\" class=\"dataframe\">\n",
       "  <thead>\n",
       "    <tr style=\"text-align: right;\">\n",
       "      <th></th>\n",
       "      <th>id</th>\n",
       "      <th>category_id</th>\n",
       "      <th>title</th>\n",
       "      <th>condition</th>\n",
       "      <th>car_year</th>\n",
       "      <th>brand</th>\n",
       "      <th>model</th>\n",
       "      <th>version</th>\n",
       "      <th>engine</th>\n",
       "      <th>engine_power</th>\n",
       "      <th>...</th>\n",
       "      <th>transmission</th>\n",
       "      <th>currency</th>\n",
       "      <th>price</th>\n",
       "      <th>seller_id</th>\n",
       "      <th>seller_nickname</th>\n",
       "      <th>is_car_shop</th>\n",
       "      <th>seller_country</th>\n",
       "      <th>seller_state</th>\n",
       "      <th>seller_city</th>\n",
       "      <th>seller_neighborhood</th>\n",
       "    </tr>\n",
       "  </thead>\n",
       "  <tbody>\n",
       "    <tr>\n",
       "      <th>0</th>\n",
       "      <td>MLA1839176362</td>\n",
       "      <td>MLA1744</td>\n",
       "      <td>Volkswagen Gol</td>\n",
       "      <td>Usado</td>\n",
       "      <td>2012</td>\n",
       "      <td>Volkswagen</td>\n",
       "      <td>Gol</td>\n",
       "      <td>1.4 Power Ps+ac 83cv</td>\n",
       "      <td>1.4</td>\n",
       "      <td>83 hp</td>\n",
       "      <td>...</td>\n",
       "      <td>Manual</td>\n",
       "      <td>USD</td>\n",
       "      <td>6200.0</td>\n",
       "      <td>158350950</td>\n",
       "      <td>MATIASLABASTIE</td>\n",
       "      <td>False</td>\n",
       "      <td>Argentina</td>\n",
       "      <td>Bs.As. G.B.A. Oeste</td>\n",
       "      <td>Moreno</td>\n",
       "      <td>San Patricio</td>\n",
       "    </tr>\n",
       "    <tr>\n",
       "      <th>1</th>\n",
       "      <td>MLA1436051759</td>\n",
       "      <td>MLA1744</td>\n",
       "      <td>Volkswagen Gol Power 1.9 Diesel 2008</td>\n",
       "      <td>Usado</td>\n",
       "      <td>2013</td>\n",
       "      <td>Volkswagen</td>\n",
       "      <td>Gol</td>\n",
       "      <td>1.4 Power 83cv 5 p</td>\n",
       "      <td>1.4</td>\n",
       "      <td>83 hp</td>\n",
       "      <td>...</td>\n",
       "      <td>Manual</td>\n",
       "      <td>USD</td>\n",
       "      <td>5200.0</td>\n",
       "      <td>790635263</td>\n",
       "      <td>LAUTARO KARA</td>\n",
       "      <td>False</td>\n",
       "      <td>Argentina</td>\n",
       "      <td>Capital Federal</td>\n",
       "      <td>Capital Federal</td>\n",
       "      <td>Nueva Pompeya</td>\n",
       "    </tr>\n",
       "    <tr>\n",
       "      <th>2</th>\n",
       "      <td>MLA1837597104</td>\n",
       "      <td>MLA1744</td>\n",
       "      <td>Volkswagen Gol 1.6 3p Comfortline Ln Ab 2010</td>\n",
       "      <td>Usado</td>\n",
       "      <td>2010</td>\n",
       "      <td>Volkswagen</td>\n",
       "      <td>Gol</td>\n",
       "      <td>1.6 I Power 701</td>\n",
       "      <td>1.6</td>\n",
       "      <td>92 hp</td>\n",
       "      <td>...</td>\n",
       "      <td>Manual</td>\n",
       "      <td>USD</td>\n",
       "      <td>5500.0</td>\n",
       "      <td>239208163</td>\n",
       "      <td>XANGO AUTOS</td>\n",
       "      <td>False</td>\n",
       "      <td>Argentina</td>\n",
       "      <td>Bs.As. G.B.A. Norte</td>\n",
       "      <td>Vicente López</td>\n",
       "      <td>Villa Martelli</td>\n",
       "    </tr>\n",
       "  </tbody>\n",
       "</table>\n",
       "<p>3 rows × 25 columns</p>\n",
       "</div>"
      ],
      "text/plain": [
       "              id category_id                                         title  \\\n",
       "0  MLA1839176362     MLA1744                               Volkswagen Gol    \n",
       "1  MLA1436051759     MLA1744          Volkswagen Gol Power 1.9 Diesel 2008   \n",
       "2  MLA1837597104     MLA1744  Volkswagen Gol 1.6 3p Comfortline Ln Ab 2010   \n",
       "\n",
       "  condition car_year       brand model               version engine  \\\n",
       "0     Usado     2012  Volkswagen   Gol  1.4 Power Ps+ac 83cv    1.4   \n",
       "1     Usado     2013  Volkswagen   Gol    1.4 Power 83cv 5 p    1.4   \n",
       "2     Usado     2010  Volkswagen   Gol       1.6 I Power 701    1.6   \n",
       "\n",
       "  engine_power  ... transmission currency   price  seller_id seller_nickname  \\\n",
       "0        83 hp  ...       Manual      USD  6200.0  158350950  MATIASLABASTIE   \n",
       "1        83 hp  ...       Manual      USD  5200.0  790635263    LAUTARO KARA   \n",
       "2        92 hp  ...       Manual      USD  5500.0  239208163     XANGO AUTOS   \n",
       "\n",
       "  is_car_shop seller_country         seller_state      seller_city  \\\n",
       "0       False      Argentina  Bs.As. G.B.A. Oeste           Moreno   \n",
       "1       False      Argentina      Capital Federal  Capital Federal   \n",
       "2       False      Argentina  Bs.As. G.B.A. Norte    Vicente López   \n",
       "\n",
       "  seller_neighborhood  \n",
       "0        San Patricio  \n",
       "1       Nueva Pompeya  \n",
       "2      Villa Martelli  \n",
       "\n",
       "[3 rows x 25 columns]"
      ]
     },
     "execution_count": 18,
     "metadata": {},
     "output_type": "execute_result"
    }
   ],
   "source": [
    "df = pd.DataFrame(car_publications)\n",
    "df.head(3)"
   ]
  },
  {
   "cell_type": "markdown",
   "metadata": {},
   "source": [
    "Tambien se puede leer el archivo **JSON** creado anteriormente utilizando un **DataFrame** de **Pandas**"
   ]
  },
  {
   "cell_type": "code",
   "execution_count": 19,
   "metadata": {},
   "outputs": [
    {
     "data": {
      "text/html": [
       "<div>\n",
       "<style scoped>\n",
       "    .dataframe tbody tr th:only-of-type {\n",
       "        vertical-align: middle;\n",
       "    }\n",
       "\n",
       "    .dataframe tbody tr th {\n",
       "        vertical-align: top;\n",
       "    }\n",
       "\n",
       "    .dataframe thead th {\n",
       "        text-align: right;\n",
       "    }\n",
       "</style>\n",
       "<table border=\"1\" class=\"dataframe\">\n",
       "  <thead>\n",
       "    <tr style=\"text-align: right;\">\n",
       "      <th></th>\n",
       "      <th>id</th>\n",
       "      <th>category_id</th>\n",
       "      <th>title</th>\n",
       "      <th>condition</th>\n",
       "      <th>car_year</th>\n",
       "      <th>brand</th>\n",
       "      <th>model</th>\n",
       "      <th>version</th>\n",
       "      <th>engine</th>\n",
       "      <th>engine_power</th>\n",
       "      <th>...</th>\n",
       "      <th>transmission</th>\n",
       "      <th>currency</th>\n",
       "      <th>price</th>\n",
       "      <th>seller_id</th>\n",
       "      <th>seller_nickname</th>\n",
       "      <th>is_car_shop</th>\n",
       "      <th>seller_country</th>\n",
       "      <th>seller_state</th>\n",
       "      <th>seller_city</th>\n",
       "      <th>seller_neighborhood</th>\n",
       "    </tr>\n",
       "  </thead>\n",
       "  <tbody>\n",
       "    <tr>\n",
       "      <th>0</th>\n",
       "      <td>MLA1839176362</td>\n",
       "      <td>MLA1744</td>\n",
       "      <td>Volkswagen Gol</td>\n",
       "      <td>Usado</td>\n",
       "      <td>2012</td>\n",
       "      <td>Volkswagen</td>\n",
       "      <td>Gol</td>\n",
       "      <td>1.4 Power Ps+ac 83cv</td>\n",
       "      <td>1.4</td>\n",
       "      <td>83 hp</td>\n",
       "      <td>...</td>\n",
       "      <td>Manual</td>\n",
       "      <td>USD</td>\n",
       "      <td>6200.0</td>\n",
       "      <td>158350950</td>\n",
       "      <td>MATIASLABASTIE</td>\n",
       "      <td>False</td>\n",
       "      <td>Argentina</td>\n",
       "      <td>Bs.As. G.B.A. Oeste</td>\n",
       "      <td>Moreno</td>\n",
       "      <td>San Patricio</td>\n",
       "    </tr>\n",
       "    <tr>\n",
       "      <th>1</th>\n",
       "      <td>MLA1436051759</td>\n",
       "      <td>MLA1744</td>\n",
       "      <td>Volkswagen Gol Power 1.9 Diesel 2008</td>\n",
       "      <td>Usado</td>\n",
       "      <td>2013</td>\n",
       "      <td>Volkswagen</td>\n",
       "      <td>Gol</td>\n",
       "      <td>1.4 Power 83cv 5 p</td>\n",
       "      <td>1.4</td>\n",
       "      <td>83 hp</td>\n",
       "      <td>...</td>\n",
       "      <td>Manual</td>\n",
       "      <td>USD</td>\n",
       "      <td>5200.0</td>\n",
       "      <td>790635263</td>\n",
       "      <td>LAUTARO KARA</td>\n",
       "      <td>False</td>\n",
       "      <td>Argentina</td>\n",
       "      <td>Capital Federal</td>\n",
       "      <td>Capital Federal</td>\n",
       "      <td>Nueva Pompeya</td>\n",
       "    </tr>\n",
       "    <tr>\n",
       "      <th>2</th>\n",
       "      <td>MLA1837597104</td>\n",
       "      <td>MLA1744</td>\n",
       "      <td>Volkswagen Gol 1.6 3p Comfortline Ln Ab 2010</td>\n",
       "      <td>Usado</td>\n",
       "      <td>2010</td>\n",
       "      <td>Volkswagen</td>\n",
       "      <td>Gol</td>\n",
       "      <td>1.6 I Power 701</td>\n",
       "      <td>1.6</td>\n",
       "      <td>92 hp</td>\n",
       "      <td>...</td>\n",
       "      <td>Manual</td>\n",
       "      <td>USD</td>\n",
       "      <td>5500.0</td>\n",
       "      <td>239208163</td>\n",
       "      <td>XANGO AUTOS</td>\n",
       "      <td>False</td>\n",
       "      <td>Argentina</td>\n",
       "      <td>Bs.As. G.B.A. Norte</td>\n",
       "      <td>Vicente López</td>\n",
       "      <td>Villa Martelli</td>\n",
       "    </tr>\n",
       "  </tbody>\n",
       "</table>\n",
       "<p>3 rows × 25 columns</p>\n",
       "</div>"
      ],
      "text/plain": [
       "              id category_id                                         title  \\\n",
       "0  MLA1839176362     MLA1744                               Volkswagen Gol    \n",
       "1  MLA1436051759     MLA1744          Volkswagen Gol Power 1.9 Diesel 2008   \n",
       "2  MLA1837597104     MLA1744  Volkswagen Gol 1.6 3p Comfortline Ln Ab 2010   \n",
       "\n",
       "  condition  car_year       brand model               version engine  \\\n",
       "0     Usado      2012  Volkswagen   Gol  1.4 Power Ps+ac 83cv    1.4   \n",
       "1     Usado      2013  Volkswagen   Gol    1.4 Power 83cv 5 p    1.4   \n",
       "2     Usado      2010  Volkswagen   Gol       1.6 I Power 701    1.6   \n",
       "\n",
       "  engine_power  ...  transmission currency   price  seller_id  \\\n",
       "0        83 hp  ...        Manual      USD  6200.0  158350950   \n",
       "1        83 hp  ...        Manual      USD  5200.0  790635263   \n",
       "2        92 hp  ...        Manual      USD  5500.0  239208163   \n",
       "\n",
       "   seller_nickname is_car_shop seller_country         seller_state  \\\n",
       "0   MATIASLABASTIE       False      Argentina  Bs.As. G.B.A. Oeste   \n",
       "1     LAUTARO KARA       False      Argentina      Capital Federal   \n",
       "2      XANGO AUTOS       False      Argentina  Bs.As. G.B.A. Norte   \n",
       "\n",
       "       seller_city seller_neighborhood  \n",
       "0           Moreno        San Patricio  \n",
       "1  Capital Federal       Nueva Pompeya  \n",
       "2    Vicente López      Villa Martelli  \n",
       "\n",
       "[3 rows x 25 columns]"
      ]
     },
     "execution_count": 19,
     "metadata": {},
     "output_type": "execute_result"
    }
   ],
   "source": [
    "df = pd.read_json('MeliCarPublications.json')\n",
    "df.head(3)"
   ]
  },
  {
   "cell_type": "code",
   "execution_count": 20,
   "metadata": {},
   "outputs": [
    {
     "name": "stdout",
     "output_type": "stream",
     "text": [
      "Cantidad de filas y columnas: (16977, 25)\n",
      "\n",
      "\n",
      "<class 'pandas.core.frame.DataFrame'>\n",
      "RangeIndex: 16977 entries, 0 to 16976\n",
      "Data columns (total 25 columns):\n",
      " #   Column               Non-Null Count  Dtype  \n",
      "---  ------               --------------  -----  \n",
      " 0   id                   16977 non-null  object \n",
      " 1   category_id          16977 non-null  object \n",
      " 2   title                16977 non-null  object \n",
      " 3   condition            16977 non-null  object \n",
      " 4   car_year             16977 non-null  int64  \n",
      " 5   brand                16977 non-null  object \n",
      " 6   model                16977 non-null  object \n",
      " 7   version              16977 non-null  object \n",
      " 8   engine               16641 non-null  object \n",
      " 9   engine_power         15960 non-null  object \n",
      " 10  doors                16977 non-null  int64  \n",
      " 11  km                   16977 non-null  object \n",
      " 12  fuel_type            16977 non-null  object \n",
      " 13  traction_control     16517 non-null  object \n",
      " 14  passenger_capacity   15785 non-null  float64\n",
      " 15  transmission         16666 non-null  object \n",
      " 16  currency             16977 non-null  object \n",
      " 17  price                16977 non-null  float64\n",
      " 18  seller_id            16977 non-null  int64  \n",
      " 19  seller_nickname      16977 non-null  object \n",
      " 20  is_car_shop          16977 non-null  bool   \n",
      " 21  seller_country       16977 non-null  object \n",
      " 22  seller_state         16977 non-null  object \n",
      " 23  seller_city          16977 non-null  object \n",
      " 24  seller_neighborhood  11193 non-null  object \n",
      "dtypes: bool(1), float64(2), int64(3), object(19)\n",
      "memory usage: 3.1+ MB\n"
     ]
    }
   ],
   "source": [
    "print(f'Cantidad de filas y columnas: {df.shape}\\n\\n')\n",
    "\n",
    "df.info()"
   ]
  }
 ],
 "metadata": {
  "kernelspec": {
   "display_name": "Python 3",
   "language": "python",
   "name": "python3"
  },
  "language_info": {
   "codemirror_mode": {
    "name": "ipython",
    "version": 3
   },
   "file_extension": ".py",
   "mimetype": "text/x-python",
   "name": "python",
   "nbconvert_exporter": "python",
   "pygments_lexer": "ipython3",
   "version": "3.12.4"
  }
 },
 "nbformat": 4,
 "nbformat_minor": 2
}
