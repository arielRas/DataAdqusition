{
 "cells": [
  {
   "cell_type": "markdown",
   "metadata": {},
   "source": [
    "### OBTENCION DE DATOS API YOUTUBE"
   ]
  },
  {
   "cell_type": "markdown",
   "metadata": {},
   "source": [
    "#### Importacion de librerias necesarias"
   ]
  },
  {
   "cell_type": "code",
   "execution_count": null,
   "metadata": {},
   "outputs": [],
   "source": [
    "import json\n",
    "import pandas as pd"
   ]
  },
  {
   "cell_type": "code",
   "execution_count": null,
   "metadata": {},
   "outputs": [],
   "source": [
    "#Si es necesesario instalar primero la libreria\n",
    "#!pip install google-api-python-client\n",
    "\n",
    "#Se importa libreria de clienteGoogle\n",
    "from googleapiclient.discovery import build"
   ]
  },
  {
   "cell_type": "markdown",
   "metadata": {},
   "source": [
    "#### PARTE 1: adquirir una lista de id´s de canales de Youtube"
   ]
  },
  {
   "cell_type": "markdown",
   "metadata": {},
   "source": [
    "El objetivo de esta seccion es obtener a traves de la API de Youtube(*https://developers.google.com/youtube/v3?hl=es-419*) una lista de id que correspondan a canales de Youtube que esten relacionados con diferentes temas."
   ]
  },
  {
   "cell_type": "code",
   "execution_count": 2,
   "metadata": {},
   "outputs": [],
   "source": [
    "#Se define el API Key\n",
    "api_key = \"PasswordGeneradoPorApiGoogle\"\n",
    "\n",
    "#Se instancia el \"builder\" de conexion\n",
    "api_connection = build('youtube', 'v3', developerKey=api_key)"
   ]
  },
  {
   "cell_type": "markdown",
   "metadata": {},
   "source": [
    "Se crea una lista de temas relacionados con la ciencia de datos, acto seguido se recorre la lista(**topics**) y por cada uno de sus elementos se realiza un request a la API que trae 50 resultados para cada uno de los temas y a cada respuesta se le extrae el ID para alojarlo en una lista especifica que se utilizara posteriormente."
   ]
  },
  {
   "cell_type": "code",
   "execution_count": 3,
   "metadata": {},
   "outputs": [],
   "source": [
    "#Se crea lista de temas de interes\n",
    "topics = [\"data science\", \"data analyst\", \"ciencia de datos\", \"analisis de datos\", \"machine learning\",\n",
    "           \"deep learning\", \"estadistica descriptiva\", \"inferencia estadistica\",\"python\",\"pandas python\"]\n",
    "\n",
    "#Se crea lista para alojar resultados\n",
    "id_list = []\n",
    "\n",
    "#Ciclo for para recorrer los elementos de topic y tomar los datos de interes\n",
    "for topic in topics:\n",
    "    request = api_connection.search().list(part='snippet', type='channel', maxResults=50, q=topic)\n",
    "    response = request.execute()\n",
    "\n",
    "    if len(response['items']) > 0:\n",
    "        for item in response['items']:\n",
    "            id_list.append(item[\"id\"][\"channelId\"])"
   ]
  },
  {
   "cell_type": "code",
   "execution_count": 4,
   "metadata": {},
   "outputs": [
    {
     "name": "stdout",
     "output_type": "stream",
     "text": [
      "La cantidad de id que se aquirieron es: 500\n",
      "\n"
     ]
    }
   ],
   "source": [
    "print(f\"La cantidad de id que se aquirieron es: {len(id_list)}\\n\")"
   ]
  },
  {
   "cell_type": "markdown",
   "metadata": {},
   "source": [
    "#### PARTE 2: obtencion de datos en base a lista de id"
   ]
  },
  {
   "cell_type": "markdown",
   "metadata": {},
   "source": [
    "El objetivo de esta seccion es obtener informacion de los canales cuyos id se encuentran en la lista obtenida anteriormente (**id_list**). Para ello se recorre la lista de id y se realiza un request por cada id en la lista, obteniendo asi informacion de cada uno de los 500 canales que obtuvimos con anterioridad. Cada respuesta (dict) es guardada en la lista **data_channel_list**"
   ]
  },
  {
   "cell_type": "code",
   "execution_count": 5,
   "metadata": {},
   "outputs": [],
   "source": [
    "#Se crea lista para alojar los datos resultantes\n",
    "data_channel_list = []\n",
    "\n",
    "#Ciclo for para recorrer cada elemento de la lista de Id i realizar una request por cada uno de los elementos\n",
    "for id_channel in id_list:\n",
    "    request = api_connection.channels().list(part=['id','statistics', 'contentDetails','snippet','status','brandingSettings'], id=id_channel)\n",
    "    response = request.execute()\n",
    "    if len(response['items']) > 0:\n",
    "        for item in response['items']:\n",
    "            data_channel_list.append(item)"
   ]
  },
  {
   "cell_type": "code",
   "execution_count": 6,
   "metadata": {},
   "outputs": [
    {
     "name": "stdout",
     "output_type": "stream",
     "text": [
      "La lista de canales tiene un total de 500 elementos\n"
     ]
    }
   ],
   "source": [
    "#Cantidad de diccionarios alojados en la lista\n",
    "print(f\"La lista de canales tiene un total de {len(data_channel_list)} elementos\")"
   ]
  },
  {
   "cell_type": "markdown",
   "metadata": {},
   "source": [
    "#### PARTE 3: extraccion de los datos de interes"
   ]
  },
  {
   "cell_type": "markdown",
   "metadata": {},
   "source": [
    "Con el proposito de extraer los datos de interes de las request realizadas anteriormente, se crean dos clases para darle estructura a los datos. En primer lugar se crea la clase **YoutubeChannel** la cual en sus atributos aloja los datos de interes de la informacion obtenida. Por otra parte se crea la clase **ChannelBuilder** la cual tiene la responsabilidad de extraer los datos de interes y devolver una instancia de la clase **YoutubeChannel** con sus respectivos atributos seteados."
   ]
  },
  {
   "cell_type": "code",
   "execution_count": 16,
   "metadata": {},
   "outputs": [],
   "source": [
    "class YoutubeChannel():\n",
    "    def __init__(self):\n",
    "        self.id = None\n",
    "        self.title = None\n",
    "        self.description = None\n",
    "        self.custom_url = None\n",
    "        self.published_at = None\n",
    "        self.country = None\n",
    "        self.views = None\n",
    "        self.subscribers = None        \n",
    "        self.video_count = None\n",
    "        self.hidden_suscr = None\n",
    "        self.privacy = None\n",
    "        self.key_words = None\n",
    "\n",
    " \n",
    "class ChannelBuilder():\n",
    "    def __init__(self, data : dict):\n",
    "        self.data = data\n",
    "        self.channel = YoutubeChannel()\n",
    "\n",
    "    def build(self) -> YoutubeChannel:\n",
    "        self.channel.id = self._get_id()\n",
    "        self.channel.title = self._get_title()\n",
    "        self.channel.description = self._get_description()\n",
    "        self.channel.custom_url = self._get_customurl()\n",
    "        self.channel.published_at = self._get_published_at()\n",
    "        self.channel.country = self._get_country()\n",
    "        self.channel.views = self._get_views()\n",
    "        self.channel.subscribers = self._get_subscribers()  \n",
    "        self.channel.video_count = self._get_video_count()\n",
    "        self.channel.hidden_suscr = self._get_hidden_subs()\n",
    "        self.channel.privacy = self._get_privacy()\n",
    "        self.channel.key_words = self._get_keyWords()\n",
    "        return self.channel\n",
    "\n",
    "    def _get_id(self):\n",
    "        return self.data.get('id', None)\n",
    "    \n",
    "    def _get_title(self):\n",
    "        return self.data.get('snippet',{}).get('title', None)\n",
    "\n",
    "    def _get_description(self):\n",
    "        return self.data.get('snippet',{}).get('description', None)\n",
    "    \n",
    "    def _get_customurl(self):\n",
    "        return self.data.get('snippet',{}).get('customUrl', None)\n",
    "    \n",
    "    def _get_published_at(self):\n",
    "        return self.data.get('snippet',{}).get('publishedAt', None)\n",
    "\n",
    "    def _get_country(self):\n",
    "        return self.data.get('snippet',{}).get('country', None)\n",
    "    \n",
    "    def _get_views(self):\n",
    "        return self.data.get('statistics', {}).get('viewCount', None)\n",
    "    \n",
    "    def _get_subscribers(self):\n",
    "        return self.data.get('statistics', {}).get('subscriberCount', None)\n",
    "\n",
    "    def _get_video_count(self):\n",
    "        return self.data.get('statistics', {}).get('videoCount', None)\n",
    "\n",
    "    def _get_hidden_subs(self):\n",
    "        return self.data.get('statistics', {}).get('hiddenSubscriberCount', None)\n",
    "\n",
    "    def _get_privacy(self):\n",
    "            return self.data.get('status',{}).get('privacyStatus', None)\n",
    "\n",
    "    def _get_keyWords(self):\n",
    "        return self.data.get('brandingSettings',{}).get('channel',{}).get('keywords', None)"
   ]
  },
  {
   "cell_type": "markdown",
   "metadata": {},
   "source": [
    "Aqui en primer lugar se crea la lista **channels** la cual alojará diccionarios que representan instancias de la clase **YoutubeChannel**, estos diccionarios representativos seran los que se guardaran en formato **JSON** posteriormente. <br>Seguidamente se recorre la lista **data_channel_list**, que fue obtenida en la seccion anterior, y por cada elemento de esta lista se crea una instancia de la clase **ChannelBuilder** la cual recibe por parametro el elemento actual del ciclo for, de esta manera mediante el metodo **.build()** se obtiene un objeto de tipo **YoutubeChannel** para ser guardado en **channels**."
   ]
  },
  {
   "cell_type": "code",
   "execution_count": 9,
   "metadata": {},
   "outputs": [],
   "source": [
    "#Se crea una lista para alojar las clases convertidas en diccionarios\n",
    "channels = []\n",
    "\n",
    "#Ciclo para recorrer cada diccionario en la lista y crear un objeto YouTubeChannel\n",
    "for data in data_channel_list:\n",
    "    builder = ChannelBuilder(data)\n",
    "    channel = builder.build()\n",
    "    channels.append(vars(channel))"
   ]
  },
  {
   "cell_type": "markdown",
   "metadata": {},
   "source": [
    "Se guarda el resultado obtenido en formato **JSON** de manera **local**"
   ]
  },
  {
   "cell_type": "code",
   "execution_count": 11,
   "metadata": {},
   "outputs": [],
   "source": [
    "#Guardado local del archivo JSON\n",
    "with open('YouTubeChannelsData.json', 'w') as file:\n",
    "    json.dump(channels, file, indent=4, separators=(',',':'))"
   ]
  },
  {
   "cell_type": "markdown",
   "metadata": {},
   "source": [
    "Utilizando **Pandas** se puede leer la lista de diccionarios (**channels**) para obtener un **Dataframe** y manipular los datos segun la necesidad."
   ]
  },
  {
   "cell_type": "code",
   "execution_count": 12,
   "metadata": {},
   "outputs": [
    {
     "data": {
      "text/html": [
       "<div>\n",
       "<style scoped>\n",
       "    .dataframe tbody tr th:only-of-type {\n",
       "        vertical-align: middle;\n",
       "    }\n",
       "\n",
       "    .dataframe tbody tr th {\n",
       "        vertical-align: top;\n",
       "    }\n",
       "\n",
       "    .dataframe thead th {\n",
       "        text-align: right;\n",
       "    }\n",
       "</style>\n",
       "<table border=\"1\" class=\"dataframe\">\n",
       "  <thead>\n",
       "    <tr style=\"text-align: right;\">\n",
       "      <th></th>\n",
       "      <th>id</th>\n",
       "      <th>title</th>\n",
       "      <th>description</th>\n",
       "      <th>custom_url</th>\n",
       "      <th>published_at</th>\n",
       "      <th>country</th>\n",
       "      <th>views</th>\n",
       "      <th>subscribers</th>\n",
       "      <th>video_count</th>\n",
       "      <th>hidden_suscr</th>\n",
       "      <th>privacy</th>\n",
       "      <th>key_words</th>\n",
       "    </tr>\n",
       "  </thead>\n",
       "  <tbody>\n",
       "    <tr>\n",
       "      <th>0</th>\n",
       "      <td>UCEBpSZhI1X8WaP-kY_2LLcg</td>\n",
       "      <td>365 Data Science</td>\n",
       "      <td>At 365 Data Science we make #DataScience acces...</td>\n",
       "      <td>@365datascience</td>\n",
       "      <td>2017-08-07T15:17:05Z</td>\n",
       "      <td>BG</td>\n",
       "      <td>13723915</td>\n",
       "      <td>306000</td>\n",
       "      <td>223</td>\n",
       "      <td>False</td>\n",
       "      <td>public</td>\n",
       "      <td>Data python \"data science\" \"data science for b...</td>\n",
       "    </tr>\n",
       "    <tr>\n",
       "      <th>1</th>\n",
       "      <td>UCy45Wq2N_vLRcpoV0_vNoaA</td>\n",
       "      <td>Instituto Data Science Argentina</td>\n",
       "      <td>El Instituto es un campus exclusivo para la fo...</td>\n",
       "      <td>@institutodatascience</td>\n",
       "      <td>2019-10-05T14:57:55Z</td>\n",
       "      <td>AR</td>\n",
       "      <td>254762</td>\n",
       "      <td>7490</td>\n",
       "      <td>144</td>\n",
       "      <td>False</td>\n",
       "      <td>public</td>\n",
       "      <td>\"Big Data\" \"data science\" \"machine learning\" \"...</td>\n",
       "    </tr>\n",
       "    <tr>\n",
       "      <th>2</th>\n",
       "      <td>UCpNdaZYUS4OiIIBXLnggbCw</td>\n",
       "      <td>DataScience ForBusiness</td>\n",
       "      <td>Data Science orientado a negocio. Aprende Data...</td>\n",
       "      <td>@datascienceforbusiness</td>\n",
       "      <td>2019-01-25T14:51:21Z</td>\n",
       "      <td>ES</td>\n",
       "      <td>1715322</td>\n",
       "      <td>59500</td>\n",
       "      <td>68</td>\n",
       "      <td>False</td>\n",
       "      <td>public</td>\n",
       "      <td>\"data science\" \"big data\" \"machine learning\" \"...</td>\n",
       "    </tr>\n",
       "  </tbody>\n",
       "</table>\n",
       "</div>"
      ],
      "text/plain": [
       "                         id                             title   \n",
       "0  UCEBpSZhI1X8WaP-kY_2LLcg                  365 Data Science  \\\n",
       "1  UCy45Wq2N_vLRcpoV0_vNoaA  Instituto Data Science Argentina   \n",
       "2  UCpNdaZYUS4OiIIBXLnggbCw           DataScience ForBusiness   \n",
       "\n",
       "                                         description               custom_url   \n",
       "0  At 365 Data Science we make #DataScience acces...          @365datascience  \\\n",
       "1  El Instituto es un campus exclusivo para la fo...    @institutodatascience   \n",
       "2  Data Science orientado a negocio. Aprende Data...  @datascienceforbusiness   \n",
       "\n",
       "           published_at country     views subscribers video_count   \n",
       "0  2017-08-07T15:17:05Z      BG  13723915      306000         223  \\\n",
       "1  2019-10-05T14:57:55Z      AR    254762        7490         144   \n",
       "2  2019-01-25T14:51:21Z      ES   1715322       59500          68   \n",
       "\n",
       "   hidden_suscr privacy                                          key_words  \n",
       "0         False  public  Data python \"data science\" \"data science for b...  \n",
       "1         False  public  \"Big Data\" \"data science\" \"machine learning\" \"...  \n",
       "2         False  public  \"data science\" \"big data\" \"machine learning\" \"...  "
      ]
     },
     "execution_count": 12,
     "metadata": {},
     "output_type": "execute_result"
    }
   ],
   "source": [
    "#Se crea el dataframe leyendo la informacion del JSON\n",
    "df = pd.DataFrame(channels)\n",
    "df. head(5)"
   ]
  },
  {
   "cell_type": "markdown",
   "metadata": {},
   "source": [
    "Tambien se puede leer el archivo **JSON** creado anteriormente utilizando un **DataFrame** de **Pandas**"
   ]
  },
  {
   "cell_type": "code",
   "execution_count": 14,
   "metadata": {},
   "outputs": [
    {
     "data": {
      "text/html": [
       "<div>\n",
       "<style scoped>\n",
       "    .dataframe tbody tr th:only-of-type {\n",
       "        vertical-align: middle;\n",
       "    }\n",
       "\n",
       "    .dataframe tbody tr th {\n",
       "        vertical-align: top;\n",
       "    }\n",
       "\n",
       "    .dataframe thead th {\n",
       "        text-align: right;\n",
       "    }\n",
       "</style>\n",
       "<table border=\"1\" class=\"dataframe\">\n",
       "  <thead>\n",
       "    <tr style=\"text-align: right;\">\n",
       "      <th></th>\n",
       "      <th>id</th>\n",
       "      <th>title</th>\n",
       "      <th>description</th>\n",
       "      <th>custom_url</th>\n",
       "      <th>published_at</th>\n",
       "      <th>country</th>\n",
       "      <th>views</th>\n",
       "      <th>subscribers</th>\n",
       "      <th>video_count</th>\n",
       "      <th>hidden_suscr</th>\n",
       "      <th>privacy</th>\n",
       "      <th>key_words</th>\n",
       "    </tr>\n",
       "  </thead>\n",
       "  <tbody>\n",
       "    <tr>\n",
       "      <th>0</th>\n",
       "      <td>UCEBpSZhI1X8WaP-kY_2LLcg</td>\n",
       "      <td>365 Data Science</td>\n",
       "      <td>At 365 Data Science we make #DataScience acces...</td>\n",
       "      <td>@365datascience</td>\n",
       "      <td>2017-08-07 15:17:05+00:00</td>\n",
       "      <td>BG</td>\n",
       "      <td>13723915</td>\n",
       "      <td>306000</td>\n",
       "      <td>223</td>\n",
       "      <td>False</td>\n",
       "      <td>public</td>\n",
       "      <td>Data python \"data science\" \"data science for b...</td>\n",
       "    </tr>\n",
       "    <tr>\n",
       "      <th>1</th>\n",
       "      <td>UCy45Wq2N_vLRcpoV0_vNoaA</td>\n",
       "      <td>Instituto Data Science Argentina</td>\n",
       "      <td>El Instituto es un campus exclusivo para la fo...</td>\n",
       "      <td>@institutodatascience</td>\n",
       "      <td>2019-10-05 14:57:55+00:00</td>\n",
       "      <td>AR</td>\n",
       "      <td>254762</td>\n",
       "      <td>7490</td>\n",
       "      <td>144</td>\n",
       "      <td>False</td>\n",
       "      <td>public</td>\n",
       "      <td>\"Big Data\" \"data science\" \"machine learning\" \"...</td>\n",
       "    </tr>\n",
       "    <tr>\n",
       "      <th>2</th>\n",
       "      <td>UCpNdaZYUS4OiIIBXLnggbCw</td>\n",
       "      <td>DataScience ForBusiness</td>\n",
       "      <td>Data Science orientado a negocio. Aprende Data...</td>\n",
       "      <td>@datascienceforbusiness</td>\n",
       "      <td>2019-01-25 14:51:21+00:00</td>\n",
       "      <td>ES</td>\n",
       "      <td>1715322</td>\n",
       "      <td>59500</td>\n",
       "      <td>68</td>\n",
       "      <td>False</td>\n",
       "      <td>public</td>\n",
       "      <td>\"data science\" \"big data\" \"machine learning\" \"...</td>\n",
       "    </tr>\n",
       "  </tbody>\n",
       "</table>\n",
       "</div>"
      ],
      "text/plain": [
       "                         id                             title   \n",
       "0  UCEBpSZhI1X8WaP-kY_2LLcg                  365 Data Science  \\\n",
       "1  UCy45Wq2N_vLRcpoV0_vNoaA  Instituto Data Science Argentina   \n",
       "2  UCpNdaZYUS4OiIIBXLnggbCw           DataScience ForBusiness   \n",
       "\n",
       "                                         description               custom_url   \n",
       "0  At 365 Data Science we make #DataScience acces...          @365datascience  \\\n",
       "1  El Instituto es un campus exclusivo para la fo...    @institutodatascience   \n",
       "2  Data Science orientado a negocio. Aprende Data...  @datascienceforbusiness   \n",
       "\n",
       "               published_at country     views  subscribers  video_count   \n",
       "0 2017-08-07 15:17:05+00:00      BG  13723915       306000          223  \\\n",
       "1 2019-10-05 14:57:55+00:00      AR    254762         7490          144   \n",
       "2 2019-01-25 14:51:21+00:00      ES   1715322        59500           68   \n",
       "\n",
       "   hidden_suscr privacy                                          key_words  \n",
       "0         False  public  Data python \"data science\" \"data science for b...  \n",
       "1         False  public  \"Big Data\" \"data science\" \"machine learning\" \"...  \n",
       "2         False  public  \"data science\" \"big data\" \"machine learning\" \"...  "
      ]
     },
     "execution_count": 14,
     "metadata": {},
     "output_type": "execute_result"
    }
   ],
   "source": [
    "df = pd.read_json('YouTubeChannelsData.json')\n",
    "df.head(5)"
   ]
  }
 ],
 "metadata": {
  "kernelspec": {
   "display_name": "Python 3",
   "language": "python",
   "name": "python3"
  },
  "language_info": {
   "codemirror_mode": {
    "name": "ipython",
    "version": 3
   },
   "file_extension": ".py",
   "mimetype": "text/x-python",
   "name": "python",
   "nbconvert_exporter": "python",
   "pygments_lexer": "ipython3",
   "version": "3.11.3"
  }
 },
 "nbformat": 4,
 "nbformat_minor": 2
}
